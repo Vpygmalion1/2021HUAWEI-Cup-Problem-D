{
 "cells": [
  {
   "cell_type": "code",
   "execution_count": 27,
   "id": "aa6eb912",
   "metadata": {},
   "outputs": [],
   "source": [
    "import pandas as pd\n",
    "import numpy as np\n",
    "from sklearn.model_selection import train_test_split,StratifiedKFold\n",
    "#import matplotlib\n",
    "#matplotlib.use('TkAgg')\n",
    "import matplotlib.pyplot as plt\n",
    "import seaborn as sns\n",
    "#import sweetviz as sv\n",
    "#from pandas_profiling import ProfileReport\n",
    "import xgboost as xgb\n",
    "from sklearn.ensemble import RandomForestClassifier,RandomForestRegressor\n",
    "from sklearn.metrics import confusion_matrix, accuracy_score, precision_score, recall_score, f1_score, roc_curve, auc, cohen_kappa_score, \\\n",
    "                            log_loss, brier_score_loss, hinge_loss, classification_report,roc_auc_score,confusion_matrix\n",
    "from sklearn.svm import SVC\n",
    "from sklearn.feature_selection import RFECV,RFE\n",
    "\n",
    "import lightgbm as lgb"
   ]
  },
  {
   "cell_type": "code",
   "execution_count": 9,
   "id": "6ed2e356",
   "metadata": {},
   "outputs": [],
   "source": [
    "# ADMET = pd.read_excel('C:/Users/TANGLINGHUI331/Desktop/华为杯/2021年D题/ADMET.xlsx')\n",
    "ER = pd.read_excel('C:/Users/TANGLINGHUI331/Desktop/华为杯/2021年D题/ERα_activity.xlsx')\n",
    "Molecular = pd.read_excel('C:/Users/TANGLINGHUI331/Desktop/华为杯/2021年D题/Molecular_Descriptor.xlsx') "
   ]
  },
  {
   "cell_type": "code",
   "execution_count": 3,
   "id": "c966b8df",
   "metadata": {},
   "outputs": [
    {
     "data": {
      "text/plain": [
       "Index(['nAcid', 'ALogP', 'ALogp2', 'AMR', 'apol', 'naAromAtom', 'nAromBond',\n",
       "       'nAtom', 'nHeavyAtom', 'nH',\n",
       "       ...\n",
       "       'MW', 'WTPT-1', 'WTPT-2', 'WTPT-3', 'WTPT-4', 'WTPT-5', 'WPATH', 'WPOL',\n",
       "       'XLogP', 'Zagreb'],\n",
       "      dtype='object', length=729)"
      ]
     },
     "execution_count": 3,
     "metadata": {},
     "output_type": "execute_result"
    }
   ],
   "source": [
    "fea_columns = Molecular.columns.drop('SMILES')\n",
    "fea_columns"
   ]
  },
  {
   "cell_type": "code",
   "execution_count": 4,
   "id": "53c55f40",
   "metadata": {},
   "outputs": [],
   "source": [
    "# 删除0大于85%的特征\n",
    "def dele0(data,columns):\n",
    "    fea_columns0 = []\n",
    "    for i in columns:\n",
    "        if (sum(data[i]==0)/data.shape[0])<0.15:\n",
    "            fea_columns0.append(i)\n",
    "    return fea_columns0"
   ]
  },
  {
   "cell_type": "code",
   "execution_count": 5,
   "id": "63d68655",
   "metadata": {},
   "outputs": [],
   "source": [
    "# 删除0>85%的特征后剩余197个特征\n",
    "fea_columns0 = dele0(Molecular,fea_columns)\n",
    "sel_Molecular0 = Molecular[fea_columns0]"
   ]
  },
  {
   "cell_type": "code",
   "execution_count": 18,
   "id": "4c9daab2",
   "metadata": {},
   "outputs": [],
   "source": [
    "# 得到初步筛选后的数据集，并进行划分\n",
    "X = sel_Molecular0\n",
    "y = ER['pIC50']\n",
    "X1 = sel_Molecular0.iloc[:1500,:]\n",
    "X2 = np.mat(X1)"
   ]
  },
  {
   "cell_type": "code",
   "execution_count": 11,
   "id": "92b90baf",
   "metadata": {},
   "outputs": [],
   "source": [
    "# 设置遗传算法参数\n",
    "pc = 0.02      # pc为变异的概率\n",
    "t = 10       #遗传算法迭代的次数\n",
    "n = 500        #种群的个体数,要求大于20以保证具有随机性"
   ]
  },
  {
   "cell_type": "code",
   "execution_count": 21,
   "id": "d8209c5e",
   "metadata": {},
   "outputs": [
    {
     "name": "stdout",
     "output_type": "stream",
     "text": [
      "\n",
      "\n",
      "在取30维的时候，通过遗传算法得出的最优适应度值为：0.067893\n",
      "选出的最优染色体为：\n",
      "[0. 0. 0. 0. 0. 1. 0. 1. 1. 0. 0. 0. 0. 0. 0. 0. 0. 1. 0. 1. 1. 0. 0. 0.\n",
      " 0. 0. 1. 0. 1. 1. 1. 1. 0. 1. 0. 1. 0. 0. 0. 0. 0. 1. 1. 1. 0. 0. 1. 1.\n",
      " 1. 0. 1. 0. 0. 1. 0. 0. 0. 0. 0. 1. 0. 1. 1. 0. 1. 1. 0. 1. 1. 0. 0. 0.\n",
      " 0. 0. 1. 0. 0. 0. 1. 0.]\n",
      "选出的最优特征为：\n",
      "[ 6.  8.  9. 18. 20. 21. 27. 29. 30. 31. 32. 34. 36. 42. 43. 44. 47. 48.\n",
      " 49. 51. 54. 60. 62. 63. 65. 66. 68. 69. 75. 79.]\n"
     ]
    }
   ],
   "source": [
    "#遗传算法\n",
    "def GA(d):\n",
    "    population = np.zeros((n,80))      # 初始化种群\n",
    "    for i in range(n):                # 定义种群的个体数为 n\n",
    "        a = np.zeros(80-d)\n",
    "        b = np.ones(d)                # 将选择的d维特征定义为个体c中的1\n",
    "        c = np.append(a,b)\n",
    "        c = (np.random.permutation(c.T)).T    # 随机生成一个d维的个体\n",
    "        population[i] = c             # 初代的种群为 population，共有n个个体\n",
    "        \n",
    "    # 遗传算法的迭代次数为t\n",
    "    fitness_change = np.zeros(t)\n",
    "    for i in range(t):\n",
    "        fitness = np.zeros(n)             # fitness为每一个个体的适应度值\n",
    "        for j in range(n):\n",
    "            fitness[j] = Jd(population[j])          # 计算每一个体的适应度值   \n",
    "        population = selection(population,fitness)  # 通过概率选择产生新一代的种群\n",
    "        population = crossover(population)          # 通过交叉产生新的个体\n",
    "        population = mutation(population)           # 通过变异产生新个体\n",
    "        fitness_change[i] = max(fitness)      #找出每一代的适应度最大的染色体的适应度值\n",
    "        \n",
    "        \n",
    "    # 随着迭代的进行，每个个体的适应度值应该会不断增加，所以总的适应度值fitness求平均应该会变大\n",
    "    \n",
    "    best_fitness = max(fitness)\n",
    "    best_people = population[fitness.argmax()]\n",
    "    \n",
    "    return best_people,best_fitness,fitness_change,population\n",
    "    \n",
    "    \n",
    "    \n",
    "\n",
    "\n",
    "#轮盘赌选择\n",
    "def selection(population,fitness):\n",
    "    fitness_sum = np.zeros(n)\n",
    "    for i in range(n):\n",
    "        if i==0:\n",
    "            fitness_sum[i] = fitness[i]\n",
    "        else:\n",
    "            fitness_sum[i] = fitness[i] + fitness_sum[i-1]\n",
    "    for i in range(n):\n",
    "        fitness_sum[i] = fitness_sum[i] / sum(fitness)\n",
    "    \n",
    "    #选择新的种群\n",
    "    population_new = np.zeros((n,80))\n",
    "    for i in range(n):\n",
    "        rand = np.random.uniform(0,1)\n",
    "        for j in range(n):\n",
    "            if j==0:\n",
    "                if rand<=fitness_sum[j]:\n",
    "                    population_new[i] = population[j]\n",
    "            else:\n",
    "                if fitness_sum[j-1]<rand and rand<=fitness_sum[j]:\n",
    "                    population_new[i] = population[j]\n",
    "    return population_new\n",
    "                \n",
    "\n",
    "#交叉操作\n",
    "def crossover(population):\n",
    "    father = population[0:250,:]\n",
    "    mother = population[250:,:]\n",
    "    np.random.shuffle(father)       # 将父代个体按行打乱以随机配对\n",
    "    np.random.shuffle(mother)\n",
    "    for i in range(250):\n",
    "        father_1 = father[i]\n",
    "        mother_1 = mother[i]\n",
    "        one_zero = []\n",
    "        zero_one = []\n",
    "        for j in range(80):\n",
    "            if father_1[j]==1 and mother_1[j]==0:\n",
    "                one_zero.append(j)\n",
    "            if father_1[j]==0 and mother_1[j]==1:\n",
    "                zero_one.append(j)\n",
    "        length1 = len(one_zero)\n",
    "        length2 = len(zero_one)\n",
    "        length = max(length1,length2)\n",
    "        half_length = int(length/2)        #half_length为交叉的位数 \n",
    "        for k in range(half_length):       #进行交叉操作\n",
    "            p = one_zero[k]\n",
    "            q = zero_one[k]\n",
    "            father_1[p]=0\n",
    "            mother_1[p]=1\n",
    "            father_1[q]=1\n",
    "            mother_1[q]=0\n",
    "        father[i] = father_1               #将交叉后的个体替换原来的个体\n",
    "        mother[i] = mother_1\n",
    "    population = np.append(father,mother,axis=0)\n",
    "    return population\n",
    "                \n",
    "            \n",
    "    \n",
    "#变异操作\n",
    "def mutation(population):\n",
    "    for i in range(n):\n",
    "        c = np.random.uniform(0,1)\n",
    "        if c<=pc:\n",
    "            mutation_s = population[i]\n",
    "            zero = []                           # zero存的是变异个体中第几个数为0\n",
    "            one = []                            # one存的是变异个体中第几个数为1\n",
    "            for j in range(80):\n",
    "                if mutation_s[j]==0:\n",
    "                    zero.append(j)\n",
    "                else:\n",
    "                    one.append(j)\n",
    "            a = np.random.randint(0,len(zero))    # e是随机选择由0变为1的位置\n",
    "            b = np.random.randint(0,len(one))     # f是随机选择由1变为0的位置\n",
    "            e = zero[a]\n",
    "            f = one[b]\n",
    "            mutation_s[e] = 1\n",
    "            mutation_s[f] = 0\n",
    "            population[i] = mutation_s\n",
    "            \n",
    "    return population\n",
    "\n",
    "\n",
    "#个体适应度函数 Jd(x)，x是d维特征向量(1*80维的行向量,1表示选择该特征)\n",
    "def Jd(x):\n",
    "    #从特征向量x中提取出相应的特征\n",
    "    Feature = np.zeros(d)        #数组Feature用来存 x选择的是哪d个特征\n",
    "    k = 0\n",
    "    for i in range(80):\n",
    "        if x[i] == 1:\n",
    "            Feature[k] = i\n",
    "            k+=1\n",
    "    \n",
    "    #将4个特征从X_train2数据集中取出重组成一个1500*d的矩阵X_train3\n",
    "    X3 = np.zeros((1500,1))\n",
    "    for i in range(d):\n",
    "        p = Feature[i]\n",
    "        p = p.astype(int)\n",
    "        q = X2[:,p]\n",
    "        q = q.reshape(1500,1)\n",
    "        X3 = np.append(X3,q,axis=1)\n",
    "    X3 = np.delete(X3,0,axis=1)\n",
    "    \n",
    "    #求类间离散度矩阵Sb\n",
    "    X_train3_1 = X3[0:500,:]        #数据集分为三类\n",
    "    X_train3_2 = X3[500:1000,:]\n",
    "    X_train3_3 = X3[1000:1500,:]\n",
    "    m = np.mean(X3,axis=0)       #总体均值向量\n",
    "    m1 = np.mean(X_train3_1,axis=0)    #第一类的均值向量\n",
    "    m2 = np.mean(X_train3_2,axis=0)    #第二类的均值向量\n",
    "    m3 = np.mean(X_train3_3,axis=0)    #第二类的均值向量\n",
    "    m = m.reshape(d,1)               #将均值向量转换为列向量以便于计算\n",
    "    m1 = m1.reshape(d,1)\n",
    "    m2 = m2.reshape(d,1)\n",
    "    m3 = m3.reshape(d,1)\n",
    "    Sb = ((m1 - m).dot((m1 - m).T) + (m2 - m).dot((m2 - m).T) + (m3 - m).dot((m3 - m).T))/3 #除以类别个数\n",
    "    \n",
    "    #求类内离散度矩阵Sw\n",
    "    S1 = np.zeros((d,d))\n",
    "    S2 = np.zeros((d,d))\n",
    "    S3 = np.zeros((d,d))\n",
    "    for i in range(500):\n",
    "        S1 += (X_train3_1[i].reshape(d,1)-m1).dot((X_train3_1[i].reshape(d,1)-m1).T)\n",
    "    S1 = S1/500\n",
    "    for i in range(500):\n",
    "        S2 += (X_train3_2[i].reshape(d,1)-m2).dot((X_train3_2[i].reshape(d,1)-m2).T)\n",
    "    S2 = S2/500\n",
    "    for i in range(500):\n",
    "        S3 += (X_train3_3[i].reshape(d,1)-m3).dot((X_train3_3[i].reshape(d,1)-m3).T)\n",
    "    S3 = S3/500\n",
    "    \n",
    "    Sw = (S1 + S2 + S3)/3\n",
    "    \n",
    "    #计算个体适应度函数 Jd(x)\n",
    "    J1 = np.trace(Sb)\n",
    "    J2 = np.trace(Sw)\n",
    "    Jd = J1/J2\n",
    "    \n",
    "    return Jd\n",
    "    \n",
    "\n",
    "\n",
    "if __name__ == '__main__':\n",
    "    \n",
    "    # best_d = np.zeros(d)          # judge存的是每一个维数的最优适应度\n",
    "    \n",
    "    # fitness_change是遗传算法在迭代过程中适应度变化\n",
    "    # best是每一维数迭代到最后的最优的适应度，用于比较\n",
    "    \n",
    "    for d in range(30,31):\n",
    "        print(\"\\n\")\n",
    "        best_people,best_fitness,fitness_change,best_population = GA(d)\n",
    "        choice = np.zeros(d)\n",
    "        k = 0\n",
    "        print(\"在取%d维的时候，通过遗传算法得出的最优适应度值为：%.6f\"%(d,best_fitness))\n",
    "        print(\"选出的最优染色体为：\")\n",
    "        print(best_people)\n",
    "        for j in range(80):\n",
    "            if best_people[j] == 1:\n",
    "                choice[k]=j+1\n",
    "                k+=1\n",
    "        print(\"选出的最优特征为：\")\n",
    "        print(choice)\n",
    "    \n",
    "    '''\n",
    "    #画图\n",
    "    x = np.arange(0,t,1)\n",
    "    plt.xlabel('dimension')\n",
    "    plt.ylabel('fitness')\n",
    "    plt.ylim((0,50))            # y坐标的范围\n",
    "    plt.plot(x,fitness_change,'b')\n",
    "    '''\n",
    "    \n",
    "    "
   ]
  },
  {
   "cell_type": "code",
   "execution_count": 22,
   "id": "5890006c",
   "metadata": {},
   "outputs": [
    {
     "data": {
      "text/plain": [
       "Index(['nAromBond', 'nHeavyAtom', 'nH', 'ATSm2', 'ATSm4', 'ATSm5', 'BCUTw-1l',\n",
       "       'BCUTc-1l', 'BCUTc-1h', 'BCUTp-1l', 'BCUTp-1h', 'nBonds2', 'nBondsS2',\n",
       "       'C3SP2', 'SCH-6', 'SCH-7', 'SC-3', 'SC-5', 'VC-3', 'SPC-4', 'VPC-4',\n",
       "       'SP-3', 'SP-5', 'SP-6', 'VP-0', 'VP-1', 'VP-3', 'VP-4', 'ECCEN',\n",
       "       'nHaaCH'],\n",
       "      dtype='object')"
      ]
     },
     "execution_count": 22,
     "metadata": {},
     "output_type": "execute_result"
    }
   ],
   "source": [
    "# 得到遗传算法选择的30个特征\n",
    "choice = choice.astype(int)\n",
    "ga_fea = X.columns[choice-1]\n",
    "ga_fea"
   ]
  },
  {
   "cell_type": "code",
   "execution_count": 23,
   "id": "e3569fa6",
   "metadata": {},
   "outputs": [
    {
     "name": "stdout",
     "output_type": "stream",
     "text": [
      "是否应该选择 [False False False False False False False False False False False False\n",
      "  True  True  True False False False False False False False False False\n",
      " False False False False  True  True False False False False False False\n",
      " False False False False False False False  True False False False False\n",
      " False  True False False  True False False  True False False False False\n",
      " False False False False False False False False False False False False\n",
      "  True False False False False False False False False False  True False\n",
      " False False False  True False False  True False False False False False\n",
      "  True False False False False  True False False False False  True  True\n",
      "  True False False False False  True False False False False False False\n",
      " False False False False False False False False False False  True False\n",
      " False False  True False False False False False False False False False\n",
      " False False False False False False False False False False False False\n",
      " False  True False False False False False False False False  True False\n",
      " False False False  True  True  True  True False False False False False\n",
      " False False False False False  True False False False False False False\n",
      "  True False False  True False]\n"
     ]
    }
   ],
   "source": [
    "# RFECV筛选特征\n",
    "\n",
    "# 分类\n",
    "rf = RandomForestRegressor(oob_score=True)\n",
    "rfe = RFE(estimator=rf,n_features_to_select=30)\n",
    "rfe.fit(X,y)\n",
    "\n",
    "print(\"是否应该选择 %s\" % rfe.support_)\n"
   ]
  },
  {
   "cell_type": "code",
   "execution_count": 24,
   "id": "59cdaaf2",
   "metadata": {},
   "outputs": [],
   "source": [
    "# 得到RFE选择的30个特征\n",
    "rfe_fea = X.columns[rfe.support_]"
   ]
  },
  {
   "cell_type": "code",
   "execution_count": 25,
   "id": "0e9f86ec",
   "metadata": {},
   "outputs": [
    {
     "data": {
      "text/plain": [
       "57"
      ]
     },
     "execution_count": 25,
     "metadata": {},
     "output_type": "execute_result"
    }
   ],
   "source": [
    "# 将遗传算法与RFE选择的特征结合\n",
    "sel_fea = []\n",
    "for i in ga_fea:\n",
    "    sel_fea.append(i)\n",
    "for j in rfe_fea:\n",
    "    if j not in sel_fea:\n",
    "        sel_fea.append(j)\n",
    "len(sel_fea)"
   ]
  },
  {
   "cell_type": "code",
   "execution_count": 26,
   "id": "508a6843",
   "metadata": {},
   "outputs": [],
   "source": [
    "# 得到57个特征的训练集\n",
    "sel_X = X[sel_fea]"
   ]
  },
  {
   "cell_type": "code",
   "execution_count": 33,
   "id": "eb76840b",
   "metadata": {},
   "outputs": [],
   "source": [
    "sel_X_cor = sel_X.corr()"
   ]
  },
  {
   "cell_type": "code",
   "execution_count": 46,
   "id": "43d3a503",
   "metadata": {},
   "outputs": [
    {
     "name": "stdout",
     "output_type": "stream",
     "text": [
      "是否应该选择 [ True False False False False False False False False False False  True\n",
      " False  True  True  True False False False False False False False False\n",
      " False False False False  True  True  True  True False False False False\n",
      " False False False False False False  True False False False False False\n",
      " False False  True False False False False False False False False False\n",
      " False False False False False False False False False False False False\n",
      "  True False  True False False False False False False False  True False\n",
      " False False False False False  True False False False False False False\n",
      " False  True False False  True False  True False False False  True  True\n",
      " False False False False False False False False False False False False\n",
      " False False False False False False False False False False False False\n",
      " False False False False False False False False False False  True False\n",
      " False  True False False False False False False  True False False False\n",
      " False False False False False False False False False False  True False\n",
      " False False False  True  True  True  True False False False False False\n",
      " False False False False False False False False False False False False\n",
      "  True False False  True False]\n"
     ]
    }
   ],
   "source": [
    "# RFECV筛选特征\n",
    "\n",
    "# 分类\n",
    "#rf = RandomForestRegressor(oob_score=True)\n",
    "rfe1 = RFE(estimator=lgbr,n_features_to_select=30)\n",
    "rfe1.fit(X,y)\n",
    "\n",
    "print(\"是否应该选择 %s\" % rfe1.support_)\n"
   ]
  },
  {
   "cell_type": "code",
   "execution_count": 47,
   "id": "a5fd35ba",
   "metadata": {},
   "outputs": [],
   "source": [
    "# 得到RFE选择的30个特征\n",
    "rfe_fea1 = X.columns[rfe1.support_]"
   ]
  },
  {
   "cell_type": "code",
   "execution_count": 51,
   "id": "5b1c67d2",
   "metadata": {},
   "outputs": [
    {
     "data": {
      "text/plain": [
       "53"
      ]
     },
     "execution_count": 51,
     "metadata": {},
     "output_type": "execute_result"
    }
   ],
   "source": [
    "# 将遗传算法与RFE选择的特征结合\n",
    "sel_fea1 = []\n",
    "for i in ga_fea:\n",
    "    sel_fea1.append(i)\n",
    "for j in rfe_fea1:\n",
    "    if j not in sel_fea1:\n",
    "        sel_fea1.append(j)\n",
    "len(sel_fea1)"
   ]
  },
  {
   "cell_type": "code",
   "execution_count": 54,
   "id": "992b3043",
   "metadata": {},
   "outputs": [],
   "source": [
    "# 得到57个特征的训练集\n",
    "sel_X = X[sel_fea1]"
   ]
  },
  {
   "cell_type": "code",
   "execution_count": 57,
   "id": "05c1a4d6",
   "metadata": {},
   "outputs": [],
   "source": [
    "# 随机森林得到特征重要性\n",
    "rf1 = RandomForestRegressor(random_state=0,oob_score=True)\n",
    "rf1.fit(sel_X,y)\n",
    "importance = rf1.feature_importances_\n",
    "features = sel_X.columns\n",
    "\n",
    "# XGBoost得到特征重要性\n",
    "xgr = xgb.XGBRegressor()\n",
    "xgr.fit(sel_X,y)\n",
    "fscore = xgr.feature_importances_\n",
    "\n",
    "# XGBoost得到特征重要性\n",
    "lgbr = lgb.LGBMRegressor()\n",
    "lgbr.fit(sel_X,y)\n",
    "importance1 = lgbr.feature_importances_\n"
   ]
  },
  {
   "cell_type": "code",
   "execution_count": 58,
   "id": "72daae2d",
   "metadata": {},
   "outputs": [],
   "source": [
    "# 得到得分和排名\n",
    "score = pd.DataFrame(columns = ['features','xg_score','rf_score','lgb_score'])\n",
    "score['features'] = features\n",
    "score['xg_score'] = fscore\n",
    "score['rf_score'] = importance\n",
    "score['lgb_score']= importance1\n",
    "score['lgb_score'] = final_score['lgb_score']/sum(final_score['lgb_score'])\n",
    "# sort_score1 = score.sort_values(by='xg_score')\n",
    "# sort_score2 = score.sort_values(by='rf_score')\n",
    "score['xg_rank'] = score['xg_score'].rank(ascending=False)\n",
    "score['rf_rank'] = score['rf_score'].rank(ascending=False)\n",
    "score['lgb_rank'] = score['lgb_score'].rank(ascending=False)\n",
    "score['score'] = (score['xg_score']+score['rf_score']+score['lgb_score'])/3\n",
    "score['rank'] = score['score'].rank(ascending=False)\n",
    "final_score = score.sort_values(by='rank')\n",
    "# final_score.to_excel('C:/Users/TANGLINGHUI331/Desktop/49个特征排序.xlsx')"
   ]
  },
  {
   "cell_type": "code",
   "execution_count": 72,
   "id": "0ab00300",
   "metadata": {},
   "outputs": [],
   "source": [
    "final_score.to_excel('C:/Users/TANGLINGHUI331/Desktop/无相似.xlsx')"
   ]
  },
  {
   "cell_type": "code",
   "execution_count": null,
   "id": "f74974f9",
   "metadata": {},
   "outputs": [],
   "source": []
  },
  {
   "cell_type": "code",
   "execution_count": 65,
   "id": "7f94cf9e",
   "metadata": {},
   "outputs": [],
   "source": [
    "X_sel = X[sel_fea1]"
   ]
  },
  {
   "cell_type": "code",
   "execution_count": 66,
   "id": "316d14ff",
   "metadata": {},
   "outputs": [],
   "source": [
    "# 计算相关性\n",
    "X_cor = X_sel.corr()"
   ]
  },
  {
   "cell_type": "code",
   "execution_count": 68,
   "id": "1e6f86c5",
   "metadata": {},
   "outputs": [
    {
     "name": "stdout",
     "output_type": "stream",
     "text": [
      "31\n"
     ]
    }
   ],
   "source": [
    "# 得到相关性>0.2的两列\n",
    "cor_list = []\n",
    "for i in range(len(X_cor.columns)):\n",
    "    for j in range(i+1,len(X_cor.index)):\n",
    "        if X_cor.iloc[i][j]>0.9 or X_cor.iloc[i][j]<-0.9:\n",
    "            cor_list.append([X_cor.index[i],X_cor.index[j]])\n",
    "print(len(cor_list))"
   ]
  },
  {
   "cell_type": "code",
   "execution_count": 9,
   "id": "a47e7c31",
   "metadata": {},
   "outputs": [
    {
     "data": {
      "text/plain": [
       "80"
      ]
     },
     "execution_count": 9,
     "metadata": {},
     "output_type": "execute_result"
    }
   ],
   "source": [
    "# 根据相关性，选择删除的特征列\n",
    "cor_del = []\n",
    "for i in cor_list:\n",
    "    cor_del.append(i[1])\n",
    "fea_col1 = []\n",
    "for i in fea_columns0:\n",
    "    if i not in cor_del:\n",
    "        fea_col1.append(i)\n",
    "len(fea_col1)"
   ]
  },
  {
   "cell_type": "code",
   "execution_count": null,
   "id": "642d6cbe",
   "metadata": {},
   "outputs": [],
   "source": []
  },
  {
   "cell_type": "code",
   "execution_count": null,
   "id": "5eeade94",
   "metadata": {},
   "outputs": [],
   "source": []
  },
  {
   "cell_type": "code",
   "execution_count": null,
   "id": "4257d10b",
   "metadata": {},
   "outputs": [],
   "source": []
  },
  {
   "cell_type": "code",
   "execution_count": null,
   "id": "93ae818c",
   "metadata": {},
   "outputs": [],
   "source": []
  },
  {
   "cell_type": "code",
   "execution_count": null,
   "id": "3aae803f",
   "metadata": {},
   "outputs": [],
   "source": []
  },
  {
   "cell_type": "code",
   "execution_count": null,
   "id": "98e6b4f0",
   "metadata": {},
   "outputs": [],
   "source": []
  },
  {
   "cell_type": "code",
   "execution_count": 16,
   "id": "19e74498",
   "metadata": {},
   "outputs": [],
   "source": []
  },
  {
   "cell_type": "code",
   "execution_count": 19,
   "id": "ce0d1db8",
   "metadata": {},
   "outputs": [],
   "source": [
    "sel_X.to_csv('C:/Users/TANGLINGHUI331/Desktop/华为杯/2021年D题/筛选后49个特征数据.csv')"
   ]
  },
  {
   "cell_type": "code",
   "execution_count": 22,
   "id": "3891dafe",
   "metadata": {},
   "outputs": [],
   "source": [
    "# 得到得分和排名\n",
    "score = pd.DataFrame(columns = ['features','xg_score','rf_score'])\n",
    "score['features'] = features\n",
    "score['xg_score'] = fscore\n",
    "score['rf_score'] = importance\n",
    "sort_score1 = score.sort_values(by='xg_score')\n",
    "sort_score2 = score.sort_values(by='rf_score')\n",
    "score['xg_rank'] = score['xg_score'].rank(ascending=False)\n",
    "score['rf_rank'] = score['rf_score'].rank(ascending=False)\n",
    "score['score'] = (score['xg_score']+score['rf_score'])/2\n",
    "score['rank'] = score['score'].rank(ascending=False)\n",
    "final_score = score.sort_values(by='rank')\n",
    "final_score.to_excel('C:/Users/TANGLINGHUI331/Desktop/49个特征排序.xlsx')"
   ]
  },
  {
   "cell_type": "code",
   "execution_count": 31,
   "id": "171e6a71",
   "metadata": {
    "scrolled": false
   },
   "outputs": [
    {
     "name": "stderr",
     "output_type": "stream",
     "text": [
      "<ipython-input-31-deb9bdc5de66>:2: SettingWithCopyWarning: \n",
      "A value is trying to be set on a copy of a slice from a DataFrame.\n",
      "Try using .loc[row_indexer,col_indexer] = value instead\n",
      "\n",
      "See the caveats in the documentation: https://pandas.pydata.org/pandas-docs/stable/user_guide/indexing.html#returning-a-view-versus-a-copy\n",
      "  fin_data['y']=y\n"
     ]
    }
   ],
   "source": [
    "fin_data = Molecular[list(final_score['features'][:20].values)]\n",
    "fin_data['y']=y"
   ]
  },
  {
   "cell_type": "code",
   "execution_count": 37,
   "id": "190241e9",
   "metadata": {},
   "outputs": [],
   "source": [
    "fin_data.to_excel('C:/Users/TANGLINGHUI331/Desktop/筛选后49个特征数据.xlsx')"
   ]
  },
  {
   "cell_type": "code",
   "execution_count": 1,
   "id": "01ae0312",
   "metadata": {},
   "outputs": [
    {
     "ename": "NameError",
     "evalue": "name 'plt' is not defined",
     "output_type": "error",
     "traceback": [
      "\u001b[1;31m---------------------------------------------------------------------------\u001b[0m",
      "\u001b[1;31mNameError\u001b[0m                                 Traceback (most recent call last)",
      "\u001b[1;32m<ipython-input-1-a171ce29fc92>\u001b[0m in \u001b[0;36m<module>\u001b[1;34m\u001b[0m\n\u001b[1;32m----> 1\u001b[1;33m \u001b[0mplt\u001b[0m\u001b[1;33m.\u001b[0m\u001b[0mrcParams\u001b[0m\u001b[1;33m[\u001b[0m\u001b[1;34m'font.sans-serif'\u001b[0m\u001b[1;33m]\u001b[0m \u001b[1;33m=\u001b[0m \u001b[1;33m[\u001b[0m\u001b[1;34m'SimHei'\u001b[0m\u001b[1;33m]\u001b[0m \u001b[1;31m# 指定默认字体\u001b[0m\u001b[1;33m\u001b[0m\u001b[1;33m\u001b[0m\u001b[0m\n\u001b[0m\u001b[0;32m      2\u001b[0m \u001b[0mplt\u001b[0m\u001b[1;33m.\u001b[0m\u001b[0mrcParams\u001b[0m\u001b[1;33m[\u001b[0m\u001b[1;34m'axes.unicode_minus'\u001b[0m\u001b[1;33m]\u001b[0m \u001b[1;33m=\u001b[0m \u001b[1;32mFalse\u001b[0m \u001b[1;31m# 解决保存图像是负号'-'显示为方块的问题\u001b[0m\u001b[1;33m\u001b[0m\u001b[1;33m\u001b[0m\u001b[0m\n\u001b[0;32m      3\u001b[0m \u001b[0mplt\u001b[0m\u001b[1;33m.\u001b[0m\u001b[0mfigure\u001b[0m\u001b[1;33m(\u001b[0m\u001b[0mfigsize\u001b[0m\u001b[1;33m=\u001b[0m\u001b[1;33m(\u001b[0m\u001b[1;36m10\u001b[0m\u001b[1;33m,\u001b[0m\u001b[1;36m8\u001b[0m\u001b[1;33m)\u001b[0m\u001b[1;33m)\u001b[0m\u001b[1;33m\u001b[0m\u001b[1;33m\u001b[0m\u001b[0m\n\u001b[0;32m      4\u001b[0m \u001b[0msns\u001b[0m\u001b[1;33m.\u001b[0m\u001b[0mheatmap\u001b[0m\u001b[1;33m(\u001b[0m\u001b[0mfin_data\u001b[0m\u001b[1;33m.\u001b[0m\u001b[0mcorr\u001b[0m\u001b[1;33m(\u001b[0m\u001b[0mmethod\u001b[0m\u001b[1;33m=\u001b[0m\u001b[1;34m'pearson'\u001b[0m\u001b[1;33m)\u001b[0m\u001b[1;33m,\u001b[0m\u001b[0mcmap\u001b[0m\u001b[1;33m=\u001b[0m\u001b[1;34m'Blues'\u001b[0m\u001b[1;33m)\u001b[0m\u001b[1;33m\u001b[0m\u001b[1;33m\u001b[0m\u001b[0m\n\u001b[0;32m      5\u001b[0m \u001b[0mplt\u001b[0m\u001b[1;33m.\u001b[0m\u001b[0mshow\u001b[0m\u001b[1;33m(\u001b[0m\u001b[1;33m)\u001b[0m\u001b[1;33m\u001b[0m\u001b[1;33m\u001b[0m\u001b[0m\n",
      "\u001b[1;31mNameError\u001b[0m: name 'plt' is not defined"
     ]
    }
   ],
   "source": [
    "plt.rcParams['font.sans-serif'] = ['SimHei'] # 指定默认字体  \n",
    "plt.rcParams['axes.unicode_minus'] = False # 解决保存图像是负号'-'显示为方块的问题 \n",
    "plt.figure(figsize=(10,8))\n",
    "sns.heatmap(fin_data.corr(method='pearson'),cmap='Blues')\n",
    "plt.show()"
   ]
  },
  {
   "cell_type": "code",
   "execution_count": null,
   "id": "c234345b",
   "metadata": {},
   "outputs": [],
   "source": []
  }
 ],
 "metadata": {
  "kernelspec": {
   "display_name": "Python 3",
   "language": "python",
   "name": "python3"
  },
  "language_info": {
   "codemirror_mode": {
    "name": "ipython",
    "version": 3
   },
   "file_extension": ".py",
   "mimetype": "text/x-python",
   "name": "python",
   "nbconvert_exporter": "python",
   "pygments_lexer": "ipython3",
   "version": "3.8.8"
  }
 },
 "nbformat": 4,
 "nbformat_minor": 5
}
