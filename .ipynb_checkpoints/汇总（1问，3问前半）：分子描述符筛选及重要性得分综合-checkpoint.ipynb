{
 "cells": [
  {
   "cell_type": "code",
   "execution_count": 2,
   "id": "aa6eb912",
   "metadata": {},
   "outputs": [],
   "source": [
    "import pandas as pd\n",
    "import numpy as np\n",
    "from sklearn.model_selection import train_test_split,StratifiedKFold\n",
    "import matplotlib.pyplot as plt\n",
    "import seaborn as sns\n",
    "import xgboost as xgb\n",
    "from sklearn.ensemble import RandomForestClassifier,RandomForestRegressor\n",
    "from sklearn.metrics import confusion_matrix, accuracy_score, precision_score, recall_score, f1_score, roc_curve, auc, cohen_kappa_score, \\\n",
    "                            log_loss, brier_score_loss, hinge_loss, classification_report,roc_auc_score,confusion_matrix\n",
    "from sklearn.svm import SVC\n",
    "from sklearn.feature_selection import RFECV,RFE\n"
   ]
  },
  {
   "cell_type": "markdown",
   "id": "98769c07",
   "metadata": {},
   "source": [
    "# 第一问"
   ]
  },
  {
   "cell_type": "code",
   "execution_count": 4,
   "id": "c966b8df",
   "metadata": {},
   "outputs": [
    {
     "data": {
      "text/plain": [
       "Index(['nAcid', 'ALogP', 'ALogp2', 'AMR', 'apol', 'naAromAtom', 'nAromBond',\n",
       "       'nAtom', 'nHeavyAtom', 'nH',\n",
       "       ...\n",
       "       'MW', 'WTPT-1', 'WTPT-2', 'WTPT-3', 'WTPT-4', 'WTPT-5', 'WPATH', 'WPOL',\n",
       "       'XLogP', 'Zagreb'],\n",
       "      dtype='object', length=729)"
      ]
     },
     "execution_count": 4,
     "metadata": {},
     "output_type": "execute_result"
    }
   ],
   "source": [
    "# 读取数据\n",
    "def read_data():\n",
    "    ADMET = pd.read_excel('C:/Users/TANGLINGHUI331/Desktop/华为杯/2021年D题/ADMET.xlsx')\n",
    "    ER = pd.read_excel('C:/Users/TANGLINGHUI331/Desktop/华为杯/2021年D题/ERα_activity.xlsx')\n",
    "    Molecular = pd.read_excel('C:/Users/TANGLINGHUI331/Desktop/华为杯/2021年D题/Molecular_Descriptor.xlsx') \n",
    "    # 提取分子描述列\n",
    "    fea_columns = Molecular.columns.drop('SMILES')\n",
    "    return ADMET,ER,Molecular,fea_columns\n",
    "\n",
    "ADMET,ER,Molecular,fea_columns = read_data()"
   ]
  },
  {
   "cell_type": "code",
   "execution_count": 4,
   "id": "53c55f40",
   "metadata": {},
   "outputs": [],
   "source": [
    "# 删除0大于85%的特征\n",
    "def dele0(data,columns):\n",
    "    fea_columns0 = []\n",
    "    for i in columns:\n",
    "        if (sum(data[i]==0)/data.shape[0])<0.15:\n",
    "            fea_columns0.append(i)\n",
    "    return fea_columns0\n",
    "\n",
    "# 删除0>85%的特征后剩余197个特征\n",
    "fea_columns0 = dele0(Molecular,fea_columns)\n",
    "sel_Molecular0 = Molecular[fea_columns0]"
   ]
  },
  {
   "cell_type": "code",
   "execution_count": 8,
   "id": "1e6f86c5",
   "metadata": {},
   "outputs": [
    {
     "name": "stdout",
     "output_type": "stream",
     "text": [
      "818\n"
     ]
    }
   ],
   "source": [
    "# 根据相关性筛选特征\n",
    "def cor_filter():\n",
    "    # 计算相关性\n",
    "    sel_Molecular_cor = sel_Molecular0.corr()\n",
    "\n",
    "    # 得到相关性>0.1的两列\n",
    "    cor_list = []\n",
    "    for i in range(len(sel_Molecular_cor.columns)):\n",
    "        for j in range(i+1,len(sel_Molecular_cor.index)):\n",
    "            if sel_Molecular_cor.iloc[i][j]>0.9 or sel_Molecular_cor.iloc[i][j]<-0.9:\n",
    "                cor_list.append([sel_Molecular_cor.index[i],sel_Molecular_cor.index[j]])\n",
    "    print(len(cor_list))\n",
    "\n",
    "    # 删除相关性大于0.9特征中的前一个特征\n",
    "    cor_del = []\n",
    "    for i in cor_list:\n",
    "        cor_del.append(i[1])\n",
    "        \n",
    "    # 得到筛选后的特征\n",
    "    fea_col1 = []\n",
    "    for i in fea_columns0:\n",
    "        if i not in cor_del:\n",
    "            fea_col1.append(i)\n",
    "    \n",
    "    return fea_col1"
   ]
  },
  {
   "cell_type": "code",
   "execution_count": 10,
   "id": "f33c7951",
   "metadata": {},
   "outputs": [],
   "source": [
    "# 得到初步筛选后的数据集，并进行划分\n",
    "def data_split(): \n",
    "    fea_col1 = cor_filter()\n",
    "    X = Molecular[fea_col1]\n",
    "    y = ER['pIC50']\n",
    "    X_train,X_test,y_train,y_test = train_test_split(X,y,test_size=0.2)\n",
    "    return X,y,X_train,X_test,y_train,y_test\n",
    "X,y,X_train,X_test,y_train,y_test = data_split()"
   ]
  },
  {
   "cell_type": "code",
   "execution_count": 12,
   "id": "4feb0f1c",
   "metadata": {},
   "outputs": [],
   "source": [
    "# 设置遗传算法参数\n",
    "pc = 0.02      # pc为变异的概率\n",
    "t = 10       #遗传算法迭代的次数\n",
    "n = 500        #种群的个体数,要求大于20以保证具有随机性\n",
    "# 选择遗传算法输入的训练集\n",
    "X_train1 = X_train[:1500]\n",
    "X_train2 = np.mat(X_train1)"
   ]
  },
  {
   "cell_type": "code",
   "execution_count": 13,
   "id": "62feb790",
   "metadata": {},
   "outputs": [
    {
     "name": "stdout",
     "output_type": "stream",
     "text": [
      "\n",
      "\n",
      "在取30维的时候，通过遗传算法得出的最优适应度值为：0.003271\n",
      "选出的最优染色体为：\n",
      "[1. 1. 0. 0. 1. 1. 0. 0. 1. 0. 0. 1. 0. 0. 1. 1. 0. 1. 1. 0. 0. 1. 1. 0.\n",
      " 0. 0. 0. 0. 0. 0. 0. 0. 1. 0. 0. 0. 0. 0. 0. 0. 1. 0. 1. 1. 1. 1. 1. 1.\n",
      " 1. 1. 1. 0. 0. 1. 1. 0. 0. 1. 0. 0. 0. 0. 0. 0. 0. 0. 0. 1. 0. 0. 0. 0.\n",
      " 1. 0. 0. 0. 1. 1. 0. 0.]\n",
      "选出的最优特征为：\n",
      "[ 1.  2.  5.  6.  9. 12. 15. 16. 18. 19. 22. 23. 33. 41. 43. 44. 45. 46.\n",
      " 47. 48. 49. 50. 51. 54. 55. 58. 68. 73. 77. 78.]\n"
     ]
    }
   ],
   "source": [
    "#遗传算法\n",
    "def GA(d):\n",
    "    population = np.zeros((n,80))      # 初始化种群\n",
    "    for i in range(n):                # 定义种群的个体数为 n\n",
    "        a = np.zeros(80-d)\n",
    "        b = np.ones(d)                # 将选择的d维特征定义为个体c中的1\n",
    "        c = np.append(a,b)\n",
    "        c = (np.random.permutation(c.T)).T    # 随机生成一个d维的个体\n",
    "        population[i] = c             # 初代的种群为 population，共有n个个体\n",
    "        \n",
    "    # 遗传算法的迭代次数为t\n",
    "    fitness_change = np.zeros(t)\n",
    "    for i in range(t):\n",
    "        fitness = np.zeros(n)             # fitness为每一个个体的适应度值\n",
    "        for j in range(n):\n",
    "            fitness[j] = Jd(population[j])          # 计算每一个体的适应度值   \n",
    "        population = selection(population,fitness)  # 通过概率选择产生新一代的种群\n",
    "        population = crossover(population)          # 通过交叉产生新的个体\n",
    "        population = mutation(population)           # 通过变异产生新个体\n",
    "        fitness_change[i] = max(fitness)      #找出每一代的适应度最大的染色体的适应度值\n",
    "        \n",
    "        \n",
    "    # 随着迭代的进行，每个个体的适应度值应该会不断增加，所以总的适应度值fitness求平均应该会变大\n",
    "    \n",
    "    best_fitness = max(fitness)\n",
    "    best_people = population[fitness.argmax()]\n",
    "    \n",
    "    return best_people,best_fitness,fitness_change,population\n",
    "    \n",
    "\n",
    "#轮盘赌选择\n",
    "def selection(population,fitness):\n",
    "    fitness_sum = np.zeros(n)\n",
    "    for i in range(n):\n",
    "        if i==0:\n",
    "            fitness_sum[i] = fitness[i]\n",
    "        else:\n",
    "            fitness_sum[i] = fitness[i] + fitness_sum[i-1]\n",
    "    for i in range(n):\n",
    "        fitness_sum[i] = fitness_sum[i] / sum(fitness)\n",
    "    \n",
    "    #选择新的种群\n",
    "    population_new = np.zeros((n,80))\n",
    "    for i in range(n):\n",
    "        rand = np.random.uniform(0,1)\n",
    "        for j in range(n):\n",
    "            if j==0:\n",
    "                if rand<=fitness_sum[j]:\n",
    "                    population_new[i] = population[j]\n",
    "            else:\n",
    "                if fitness_sum[j-1]<rand and rand<=fitness_sum[j]:\n",
    "                    population_new[i] = population[j]\n",
    "    return population_new\n",
    "                \n",
    "\n",
    "#交叉操作\n",
    "def crossover(population):\n",
    "    father = population[0:250,:]\n",
    "    mother = population[250:,:]\n",
    "    np.random.shuffle(father)       # 将父代个体按行打乱以随机配对\n",
    "    np.random.shuffle(mother)\n",
    "    for i in range(250):\n",
    "        father_1 = father[i]\n",
    "        mother_1 = mother[i]\n",
    "        one_zero = []\n",
    "        zero_one = []\n",
    "        for j in range(80):\n",
    "            if father_1[j]==1 and mother_1[j]==0:\n",
    "                one_zero.append(j)\n",
    "            if father_1[j]==0 and mother_1[j]==1:\n",
    "                zero_one.append(j)\n",
    "        length1 = len(one_zero)\n",
    "        length2 = len(zero_one)\n",
    "        length = max(length1,length2)\n",
    "        half_length = int(length/2)        #half_length为交叉的位数 \n",
    "        for k in range(half_length):       #进行交叉操作\n",
    "            p = one_zero[k]\n",
    "            q = zero_one[k]\n",
    "            father_1[p]=0\n",
    "            mother_1[p]=1\n",
    "            father_1[q]=1\n",
    "            mother_1[q]=0\n",
    "        father[i] = father_1               #将交叉后的个体替换原来的个体\n",
    "        mother[i] = mother_1\n",
    "    population = np.append(father,mother,axis=0)\n",
    "    return population            \n",
    "            \n",
    "    \n",
    "#变异操作\n",
    "def mutation(population):\n",
    "    for i in range(n):\n",
    "        c = np.random.uniform(0,1)\n",
    "        if c<=pc:\n",
    "            mutation_s = population[i]\n",
    "            zero = []                           # zero存的是变异个体中第几个数为0\n",
    "            one = []                            # one存的是变异个体中第几个数为1\n",
    "            for j in range(80):\n",
    "                if mutation_s[j]==0:\n",
    "                    zero.append(j)\n",
    "                else:\n",
    "                    one.append(j)\n",
    "            a = np.random.randint(0,len(zero))    # e是随机选择由0变为1的位置\n",
    "            b = np.random.randint(0,len(one))     # f是随机选择由1变为0的位置\n",
    "            e = zero[a]\n",
    "            f = one[b]\n",
    "            mutation_s[e] = 1\n",
    "            mutation_s[f] = 0\n",
    "            population[i] = mutation_s\n",
    "            \n",
    "    return population\n",
    "\n",
    "\n",
    "#个体适应度函数 Jd(x)，x是d维特征向量(1*80维的行向量,1表示选择该特征)\n",
    "def Jd(x):\n",
    "    #从特征向量x中提取出相应的特征\n",
    "    Feature = np.zeros(d)        #数组Feature用来存 x选择的是哪d个特征\n",
    "    k = 0\n",
    "    for i in range(80):\n",
    "        if x[i] == 1:\n",
    "            Feature[k] = i\n",
    "            k+=1\n",
    "    \n",
    "    #将4个特征从X_train2数据集中取出重组成一个1500*d的矩阵X_train3\n",
    "    X_train3 = np.zeros((1500,1))\n",
    "    for i in range(d):\n",
    "        p = Feature[i]\n",
    "        p = p.astype(int)\n",
    "        q = X_train2[:,p]\n",
    "        q = q.reshape(1500,1)\n",
    "        X_train3 = np.append(X_train3,q,axis=1)\n",
    "    X_train3 = np.delete(X_train3,0,axis=1)\n",
    "    \n",
    "    #求类间离散度矩阵Sb\n",
    "    X_train3_1 = X_train3[0:500,:]        #数据集分为三类\n",
    "    X_train3_2 = X_train3[500:1000,:]\n",
    "    X_train3_3 = X_train3[1000:1500,:]\n",
    "    m = np.mean(X_train3,axis=0)       #总体均值向量\n",
    "    m1 = np.mean(X_train3_1,axis=0)    #第一类的均值向量\n",
    "    m2 = np.mean(X_train3_2,axis=0)    #第二类的均值向量\n",
    "    m3 = np.mean(X_train3_3,axis=0)    #第二类的均值向量\n",
    "    m = m.reshape(d,1)               #将均值向量转换为列向量以便于计算\n",
    "    m1 = m1.reshape(d,1)\n",
    "    m2 = m2.reshape(d,1)\n",
    "    m3 = m3.reshape(d,1)\n",
    "    Sb = ((m1 - m).dot((m1 - m).T) + (m2 - m).dot((m2 - m).T) + (m3 - m).dot((m3 - m).T))/3 #除以类别个数\n",
    "    \n",
    "    #求类内离散度矩阵Sw\n",
    "    S1 = np.zeros((d,d))\n",
    "    S2 = np.zeros((d,d))\n",
    "    S3 = np.zeros((d,d))\n",
    "    for i in range(500):\n",
    "        S1 += (X_train3_1[i].reshape(d,1)-m1).dot((X_train3_1[i].reshape(d,1)-m1).T)\n",
    "    S1 = S1/500\n",
    "    for i in range(500):\n",
    "        S2 += (X_train3_2[i].reshape(d,1)-m2).dot((X_train3_2[i].reshape(d,1)-m2).T)\n",
    "    S2 = S2/500\n",
    "    for i in range(500):\n",
    "        S3 += (X_train3_3[i].reshape(d,1)-m3).dot((X_train3_3[i].reshape(d,1)-m3).T)\n",
    "    S3 = S3/500\n",
    "    \n",
    "    Sw = (S1 + S2 + S3)/3\n",
    "    \n",
    "    #计算个体适应度函数 Jd(x)\n",
    "    J1 = np.trace(Sb)\n",
    "    J2 = np.trace(Sw)\n",
    "    Jd = J1/J2\n",
    "    \n",
    "    return Jd\n",
    "    \n",
    "\n",
    "if __name__ == '__main__':\n",
    "    \n",
    "    # best_d = np.zeros(d)          # judge存的是每一个维数的最优适应度\n",
    "    \n",
    "    # fitness_change是遗传算法在迭代过程中适应度变化\n",
    "    # best是每一维数迭代到最后的最优的适应度，用于比较\n",
    "    \n",
    "    for d in range(30,31):\n",
    "        print(\"\\n\")\n",
    "        best_people,best_fitness,fitness_change,best_population = GA(d)\n",
    "        choice = np.zeros(d)\n",
    "        k = 0\n",
    "        print(\"在取%d维的时候，通过遗传算法得出的最优适应度值为：%.6f\"%(d,best_fitness))\n",
    "        print(\"选出的最优染色体为：\")\n",
    "        print(best_people)\n",
    "        for j in range(80):\n",
    "            if best_people[j] == 1:\n",
    "                choice[k]=j+1\n",
    "                k+=1\n",
    "        print(\"选出的最优特征为：\")\n",
    "        print(choice)\n",
    "    "
   ]
  },
  {
   "cell_type": "code",
   "execution_count": 14,
   "id": "013e4cd2",
   "metadata": {},
   "outputs": [
    {
     "data": {
      "text/plain": [
       "Index(['ALogP', 'ALogp2', 'nO', 'ATSc1', 'ATSc5', 'BCUTw-1h', 'BCUTp-1l',\n",
       "       'BCUTp-1h', 'C2SP2', 'C3SP2', 'VCH-6', 'SC-3', 'SaasC', 'maxHBa',\n",
       "       'maxHother', 'maxaaCH', 'maxaasC', 'hmax', 'hmin', 'gmin',\n",
       "       'LipoaffinityIndex', 'ETA_AlphaP', 'ETA_Epsilon_1', 'ETA_dEpsilon_B',\n",
       "       'ETA_dEpsilon_D', 'ETA_BetaP', 'nAtomP', 'MLFER_BH', 'nRing', 'n6Ring'],\n",
       "      dtype='object')"
      ]
     },
     "execution_count": 14,
     "metadata": {},
     "output_type": "execute_result"
    }
   ],
   "source": [
    "# 得到遗传算法选择的30个特征\n",
    "ga_fea = X_train.columns[choice.astype(int)-1]"
   ]
  },
  {
   "cell_type": "code",
   "execution_count": null,
   "id": "05fe8f82",
   "metadata": {},
   "outputs": [],
   "source": [
    "# RFE筛选特征\n",
    "def RFE_sel(x_train,ytrain):\n",
    "\n",
    "    # 分类\n",
    "    rf = RandomForestClassifier(oob_score=True)\n",
    "    rfe = RFE(estimator=rf,n_features_to_select=30)\n",
    "    rfe.fit(x_train,ytrain)\n",
    "    ref_fea = x_train.columns[rfe.support_]\n",
    "    return ref_fea\n",
    "\n",
    "rfe_fea = RFE_sel(X_train,y_train)"
   ]
  },
  {
   "cell_type": "code",
   "execution_count": null,
   "id": "9ddc8df3",
   "metadata": {},
   "outputs": [],
   "source": [
    "# 将遗传算法与RFE选择的特征结合\n",
    "def sel_fea(Xtrain,rfe_feature,a):\n",
    "    sel_fea = []\n",
    "    for i in ga_fea:\n",
    "        sel_fea.append(i)\n",
    "    for j in rfe_feature:\n",
    "        if j not in sel_fea:\n",
    "            sel_fea.append(j)\n",
    "    d = len(sel_fea)\n",
    "\n",
    "    # 得到筛选后特征的训练集\n",
    "    sel_X = Xtrain[sel_fea]\n",
    "    sel_X.to_csv('./第%d次筛选后%d个特征数据.csv'%(a,d))\n",
    "    \n",
    "    return sel_fea,sel_X\n",
    "\n",
    "sel_fea,sel_X = sel_fea(X_train,rfe_fea,0)"
   ]
  },
  {
   "cell_type": "code",
   "execution_count": null,
   "id": "b5ed5485",
   "metadata": {},
   "outputs": [],
   "source": [
    "# 计算重要性\n",
    "def importance(ytrain,selX,a):\n",
    "    # 随机森林得到特征重要性\n",
    "    rf1 = RandomForestClassifier(random_state=0,oob_score=True)\n",
    "    rf1.fit(selX,ytrain)\n",
    "    importance1 = rf1.feature_importances_\n",
    "    indices1 = np.argsort(importance1)[::-1]\n",
    "    features1 = selX.columns\n",
    "    \n",
    "    # XGBoost得到特征重要性\n",
    "    xgr = xgb.XGBClassifier()\n",
    "    xgr.fit(selX,ytrain)\n",
    "    fscore2 = xgr.feature_importances_\n",
    "    indices2 = np.argsort(fscore2)[::-1]\n",
    "    features2 = selX.columns\n",
    "    \n",
    "    # 得到得分和排名\n",
    "    score = pd.DataFrame(columns = ['features','xg_score','rf_score'])\n",
    "    score['features'] = features1\n",
    "    score['xg_score'] = fscore2\n",
    "    score['rf_score'] = importance1\n",
    "    sort_score1 = score.sort_values(by='xg_score')\n",
    "    sort_score2 = score.sort_values(by='rf_score')\n",
    "    score['xg_rank'] = score['xg_score'].rank(ascending=False)\n",
    "    score['rf_rank'] = score['rf_score'].rank(ascending=False)\n",
    "    score['score'] = (score['xg_score']+score['rf_score'])/2\n",
    "    score['rank'] = score['score'].rank(ascending=False)\n",
    "    final_score = score.sort_values(by='rank')\n",
    "    final_score.to_excel('./第%d个特征排序.xlsx'%a)\n",
    "    return final_score\n",
    "\n",
    "ER_score = importance(y_train,sel_X,0)"
   ]
  },
  {
   "cell_type": "code",
   "execution_count": 31,
   "id": "171e6a71",
   "metadata": {
    "scrolled": false
   },
   "outputs": [
    {
     "name": "stderr",
     "output_type": "stream",
     "text": [
      "<ipython-input-31-deb9bdc5de66>:2: SettingWithCopyWarning: \n",
      "A value is trying to be set on a copy of a slice from a DataFrame.\n",
      "Try using .loc[row_indexer,col_indexer] = value instead\n",
      "\n",
      "See the caveats in the documentation: https://pandas.pydata.org/pandas-docs/stable/user_guide/indexing.html#returning-a-view-versus-a-copy\n",
      "  fin_data['y']=y\n"
     ]
    }
   ],
   "source": [
    "# 得到第一问最终的49个特征数据\n",
    "fin_data = Molecular[list(final_score['features'][:20].values)]\n",
    "fin_data.to_excel('./筛选后49个特征数据.xlsx')"
   ]
  },
  {
   "cell_type": "markdown",
   "id": "e69dfc83",
   "metadata": {},
   "source": [
    "## 第一问绘图"
   ]
  },
  {
   "cell_type": "code",
   "execution_count": 37,
   "id": "190241e9",
   "metadata": {},
   "outputs": [],
   "source": [
    "# 前20个特征相关性绘图\n",
    "plt.rcParams['font.sans-serif']=['SimHei']\n",
    "plt.rcParams['axes.unicode_minus']=False\n",
    "plt.rcParams['figure.figsize'] = [16, 8]\n",
    "plt.rcParams.update({'font.size': 18})\n",
    "\n",
    "plt.figure(figsize=(10,6))\n",
    "sns.heatmap(fin_data.corr(),cmap='Blues')\n",
    "\n",
    "# plt.savefig('./20个特征相关性.png')\n",
    "plt.show()"
   ]
  },
  {
   "cell_type": "code",
   "execution_count": null,
   "id": "76ec6e35",
   "metadata": {},
   "outputs": [],
   "source": [
    "# 重要性绘图\n",
    "ER_plot = ER_score.iloc[:,:3]\n",
    "\n",
    "plt.bar(x=[i for i in range(1,21)],width=0.3,height=rank_plot['xg_score'][:20],label='XGBoost得分',color='skyblue')\n",
    "plt.bar(x=[i+0.35 for i in range(1,21)],width=0.3,height=rank_plot['rf_score'][:20],label='随机森林得分',color='pink')\n",
    "plt.xticks(ticks=[i for i in range(1,21)],labels = list(rank_plot['features'][:20]),rotation=90)\n",
    "plt.legend(loc=1)\n",
    "# plt.savefig('./第一问前20特征得分.png')\n",
    "plt.show()"
   ]
  },
  {
   "cell_type": "code",
   "execution_count": null,
   "id": "d5cbcbe4",
   "metadata": {},
   "outputs": [],
   "source": [
    "# 生物活性密度图\n",
    "plt.rcParams['font.sans-serif'] = ['SimHei'] # 指定默认字体  \n",
    "plt.rcParams['axes.unicode_minus'] = False # 解决保存图像是负号'-'显示为方块的问题 \n",
    "plt.figure(figsize=(10,7))\n",
    "sns.distplot(ER['pIC50'],color='green',bins=7)\n",
    "plt.tick_params(labelsize=15)\n",
    "plt.xlabel('pIC50',fontdict={'fontsize':15})\n",
    "plt.ylabel('密度')\n",
    "plt.savefig('C:/Users/TANGLINGHUI331/Desktop/pIC50分布密度图')\n",
    "plt.show()"
   ]
  },
  {
   "cell_type": "code",
   "execution_count": null,
   "id": "676ef9e9",
   "metadata": {},
   "outputs": [],
   "source": [
    "# 得到生物活性最小最大值、平均值、取值5-8之间的占比\n",
    "print(ER['pIC50'].min())\n",
    "print(ER['pIC50'].max())\n",
    "print(ER['pIC50'].mean())\n",
    "print(len(ER['pIC50'][(ER['pIC50']>5) & (ER['pIC50']<8)])/len(ER['pIC50']))"
   ]
  },
  {
   "cell_type": "markdown",
   "id": "7e7cbca4",
   "metadata": {},
   "source": [
    "## 第三问 "
   ]
  },
  {
   "cell_type": "code",
   "execution_count": null,
   "id": "5653d551",
   "metadata": {},
   "outputs": [],
   "source": [
    "# 统计ADMET分布情况\n",
    "ADMET_col = ADMET.columns.drop('SMILES')\n",
    "ADMET_count = pd.DataFrame(columns=ADMET_col,index=[0,1])\n",
    "for i in range(1,6):\n",
    "    #print(ADMET.iloc[:,i].value_counts())\n",
    "    ADMET_count[ADMET_col[i-1]]=ADMET.iloc[:,i].value_counts()\n",
    "    ADMET_count.to_excel('./ADMET_count.xlsx')"
   ]
  },
  {
   "cell_type": "code",
   "execution_count": null,
   "id": "fc05cd17",
   "metadata": {},
   "outputs": [],
   "source": [
    "# ADMET分布绘图\n",
    "plt.rcParams['font.sans-serif']=['SimHei']\n",
    "plt.rcParams['axes.unicode_minus']=False\n",
    "plt.rcParams['figure.figsize'] = [8, 8]\n",
    "plt.rcParams.update({'font.size': 14})\n",
    "plt.figure(figsize=(10,6))\n",
    "sns.barplot(x=ADMET_count.columns,y = ADMET_count.iloc[0],color='cornflowerblue',label=0)\n",
    "sns.barplot(x=ADMET_count.columns,y = ADMET_count.iloc[1],bottom=ADMET_count.iloc[0],color = 'lightsteelblue',label=1)\n",
    "plt.legend(loc=1)\n",
    "plt.ylabel('数量')\n",
    "# plt.savefig('./ADMET统计图.png')\n",
    "\n",
    "plt.show()"
   ]
  },
  {
   "cell_type": "code",
   "execution_count": null,
   "id": "75701ebe",
   "metadata": {},
   "outputs": [],
   "source": [
    "# 统计ADMET组合的分布情况\n",
    "ADMET_pair = pd.DataFrame(ADMET.iloc[:,1:].value_counts())\n",
    "ADMET_pair = ADMET_pair.reset_index()\n",
    "ADMET_pair['pair']=[0]*32\n",
    "for i in range(ADMET_pair.shape[0]):\n",
    "    ADMET_pair['pair'][i]='%d-%d-%d-%d-%d'%(ADMET_pair['Caco-2'][i],ADMET_pair['CYP3A4'][i],ADMET_pair['hERG'][i],ADMET_pair['HOB'][i],ADMET_pair['MN'][i],)\n",
    "ADMET_pair = ADMET_pair.iloc[:,5:]\n",
    "# ADMET_pair.to_excel('./ADMET组合统计.xlsx')"
   ]
  },
  {
   "cell_type": "code",
   "execution_count": null,
   "id": "dd2d0a4a",
   "metadata": {},
   "outputs": [],
   "source": [
    "# Caco-2 预测\n",
    "if __name__ == '__main__':\n",
    "    y1 = ADMET['Caco-2']\n",
    "    X_train1,X_tes1t,y_train1,y_test1 = train_test_split(X,y1,test_size=0.2)\n",
    "    rfe_fea1 = RFE_sel(X_train1,y_train1)\n",
    "    sel_fea1,sel_X1 = sel_fea(X_train1,rfe_fea1,1)\n",
    "    final_score1 = importance(y_train1,sel_X1,1)"
   ]
  },
  {
   "cell_type": "code",
   "execution_count": null,
   "id": "9e0af3eb",
   "metadata": {},
   "outputs": [],
   "source": [
    "# CYP3A4 预测\n",
    "if __name__ == '__main__':\n",
    "    y2 = ADMET['CYP3A4']\n",
    "    X_train2,X_test2,y_train2,y_test2 = train_test_split(X,y2,test_size=0.2)\n",
    "    rfe_fea2 = RFE_sel(X_train2,y_train2)\n",
    "    sel_fea2,sel_X2 = sel_fea(X_train2,rfe_fea2,2)\n",
    "    final_score2 = importance(y_train2,sel_X2,2)"
   ]
  },
  {
   "cell_type": "code",
   "execution_count": null,
   "id": "f37fde9d",
   "metadata": {},
   "outputs": [],
   "source": [
    "# hERG 预测\n",
    "if __name__ == '__main__':\n",
    "    y3 = ADMET['hERG']\n",
    "    X_train3,X_test3,y_train3,y_test3 = train_test_split(X,y3,test_size=0.2)\n",
    "    rfe_fea3 = RFE_sel(X_train3,y_train3)\n",
    "    sel_fea3,sel_X3 = sel_fea(X_train3,rfe_fea3,3)\n",
    "    final_score3 = importance(y_train3,sel_X3,3)"
   ]
  },
  {
   "cell_type": "code",
   "execution_count": null,
   "id": "6b9a7394",
   "metadata": {},
   "outputs": [],
   "source": [
    "# HOB 预测\n",
    "if __name__ == '__main__':\n",
    "    y4 = ADMET['HOB']\n",
    "    X_train4,X_test4,y_train4,y_test4 = train_test_split(X,y4,test_size=0.2)\n",
    "    rfe_fea4 = RFE_sel(X_train4,y_train4)\n",
    "    sel_fea4,sel_X4 = sel_fea(X_train4,rfe_fea4,4)\n",
    "    final_score4 = importance(y_train4,sel_X4,4)"
   ]
  },
  {
   "cell_type": "code",
   "execution_count": null,
   "id": "acfd36d4",
   "metadata": {},
   "outputs": [],
   "source": [
    "# MN预测\n",
    "if __name__ == '__main__':\n",
    "    y5 = ADMET['MN']\n",
    "    X_train5,X_test5,y_train5,y_test5 = train_test_split(X,y5,test_size=0.2)\n",
    "    rfe_fea5 = RFE_sel(X_train5,y_train5)\n",
    "    sel_fea5,sel_X5 = sel_fea(X_train5,rfe_fea5,5)\n",
    "    final_score5 = importance(y_train5,sel_X5,5)"
   ]
  },
  {
   "cell_type": "code",
   "execution_count": null,
   "id": "e5d58928",
   "metadata": {},
   "outputs": [],
   "source": [
    "# 得到第三问筛选的所有特征\n",
    "fea_all = pd.DataFrame(columns=[ADMET.columns.drop('SMILES')])\n",
    "fea_all['Caco-2']=sel_fea1\n",
    "fea_all['CYP3A4']=sel_fea2\n",
    "fea_all['hERG']=sel_fea3\n",
    "fea_all['HOB']=sel_fea4\n",
    "fea_all['MN']=sel_fea5\n",
    "# fea_all.to_excel('./ADMET筛选所有特征.xlsx')"
   ]
  },
  {
   "cell_type": "code",
   "execution_count": null,
   "id": "31817c6e",
   "metadata": {},
   "outputs": [],
   "source": [
    "# 统计5种ADMET性质筛选特征的出现次数\n",
    "fea_list = sel_fea1+sel_fea2+sel_fea3+sel_fea4+sel_fea5\n",
    "fea_count = pd.DataFrame(fea_list).value_counts()\n",
    "# fea_count.to_excel('./ADMET筛选所有特征统计.xlsx')"
   ]
  },
  {
   "cell_type": "code",
   "execution_count": null,
   "id": "b869d918",
   "metadata": {},
   "outputs": [],
   "source": [
    "# 绘制ADMET性质筛选特征的重要性得分图\n",
    "plt.figure(figsize=(20,15))\n",
    "plt.rcParams.update({'font.size': 18})\n",
    "plt.subplot(231)\n",
    "\n",
    "sns.lineplot(x=fin_score1['features'],y=fin_score1['score'],label='Caco-2')\n",
    "plt.xticks(rotation=90)\n",
    "plt.ylabel('得分')\n",
    "plt.xlabel('')\n",
    "plt.legend(loc=0)\n",
    "\n",
    "plt.subplot(232)\n",
    "sns.lineplot(x=fin_score2['features'],y=fin_score2['score'],label='CYP3A4-2',color='slategrey')\n",
    "plt.xticks(rotation=90)\n",
    "plt.ylabel('')\n",
    "plt.xlabel('')\n",
    "plt.legend(loc=0)\n",
    "\n",
    "plt.subplot(233)\n",
    "sns.lineplot(x=fin_score3['features'],y=fin_score3['score'],label='hERG',color='orange')\n",
    "plt.xticks(rotation=90)\n",
    "plt.ylabel('')\n",
    "plt.xlabel('')\n",
    "plt.legend(loc=0)\n",
    "\n",
    "plt.subplot(234)\n",
    "\n",
    "sns.lineplot(x=fin_score4['features'],y=fin_score4['score'],label='HOB',color='red')\n",
    "plt.xticks(rotation=90)\n",
    "plt.ylabel('得分')\n",
    "plt.xlabel('')\n",
    "plt.legend(loc=0)\n",
    "\n",
    "plt.subplot(235)\n",
    "\n",
    "sns.lineplot(x=fin_score5['features'],y=fin_score5['score'],label='MN',color='green')\n",
    "plt.xticks(rotation=90)\n",
    "plt.ylabel('')\n",
    "plt.xlabel('')\n",
    "plt.legend(loc=0)\n",
    "plt.tight_layout()\n",
    "\n",
    "# plt.savefig('./ADMET得分图.png')\n",
    "plt.show()"
   ]
  },
  {
   "cell_type": "code",
   "execution_count": null,
   "id": "ae04259a",
   "metadata": {},
   "outputs": [],
   "source": []
  },
  {
   "cell_type": "code",
   "execution_count": null,
   "id": "794e323e",
   "metadata": {},
   "outputs": [],
   "source": []
  }
 ],
 "metadata": {
  "kernelspec": {
   "display_name": "Python 3",
   "language": "python",
   "name": "python3"
  },
  "language_info": {
   "codemirror_mode": {
    "name": "ipython",
    "version": 3
   },
   "file_extension": ".py",
   "mimetype": "text/x-python",
   "name": "python",
   "nbconvert_exporter": "python",
   "pygments_lexer": "ipython3",
   "version": "3.8.8"
  }
 },
 "nbformat": 4,
 "nbformat_minor": 5
}
