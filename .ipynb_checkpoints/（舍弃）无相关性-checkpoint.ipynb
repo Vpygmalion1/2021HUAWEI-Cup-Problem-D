{
 "cells": [
  {
   "cell_type": "code",
   "execution_count": 2,
   "id": "aa6eb912",
   "metadata": {},
   "outputs": [],
   "source": [
    "import pandas as pd\n",
    "import numpy as np\n",
    "from sklearn.model_selection import train_test_split,StratifiedKFold\n",
    "import matplotlib\n",
    "matplotlib.use('TkAgg')\n",
    "import matplotlib.pyplot as plt\n",
    "import seaborn as sns\n",
    "#import sweetviz as sv\n",
    "#from pandas_profiling import ProfileReport\n",
    "import xgboost as xgb\n",
    "from sklearn.ensemble import RandomForestClassifier,RandomForestRegressor\n",
    "from sklearn.metrics import confusion_matrix, accuracy_score, precision_score, recall_score, f1_score, roc_curve, auc, cohen_kappa_score, \\\n",
    "                            log_loss, brier_score_loss, hinge_loss, classification_report,roc_auc_score,confusion_matrix\n",
    "from sklearn.svm import SVC\n",
    "from sklearn.feature_selection import RFECV,RFE\n"
   ]
  },
  {
   "cell_type": "code",
   "execution_count": 3,
   "id": "6ed2e356",
   "metadata": {},
   "outputs": [
    {
     "ename": "KeyboardInterrupt",
     "evalue": "",
     "output_type": "error",
     "traceback": [
      "\u001b[1;31m---------------------------------------------------------------------------\u001b[0m",
      "\u001b[1;31mKeyboardInterrupt\u001b[0m                         Traceback (most recent call last)",
      "\u001b[1;32m<ipython-input-3-edf2dbfdadea>\u001b[0m in \u001b[0;36m<module>\u001b[1;34m\u001b[0m\n\u001b[0;32m      1\u001b[0m \u001b[0mADMET\u001b[0m \u001b[1;33m=\u001b[0m \u001b[0mpd\u001b[0m\u001b[1;33m.\u001b[0m\u001b[0mread_excel\u001b[0m\u001b[1;33m(\u001b[0m\u001b[1;34m'C:/Users/TANGLINGHUI331/Desktop/华为杯/2021年D题/ADMET.xlsx'\u001b[0m\u001b[1;33m)\u001b[0m\u001b[1;33m\u001b[0m\u001b[1;33m\u001b[0m\u001b[0m\n\u001b[0;32m      2\u001b[0m \u001b[1;31m#ER = pd.read_excel('C:/Users/TANGLINGHUI331/Desktop/华为杯/2021年D题/ERα_activity.xlsx')\u001b[0m\u001b[1;33m\u001b[0m\u001b[1;33m\u001b[0m\u001b[1;33m\u001b[0m\u001b[0m\n\u001b[1;32m----> 3\u001b[1;33m \u001b[0mMolecular\u001b[0m \u001b[1;33m=\u001b[0m \u001b[0mpd\u001b[0m\u001b[1;33m.\u001b[0m\u001b[0mread_excel\u001b[0m\u001b[1;33m(\u001b[0m\u001b[1;34m'C:/Users/TANGLINGHUI331/Desktop/华为杯/2021年D题/Molecular_Descriptor.xlsx'\u001b[0m\u001b[1;33m)\u001b[0m\u001b[1;33m\u001b[0m\u001b[1;33m\u001b[0m\u001b[0m\n\u001b[0m",
      "\u001b[1;32mD:\\anaconda\\lib\\site-packages\\pandas\\util\\_decorators.py\u001b[0m in \u001b[0;36mwrapper\u001b[1;34m(*args, **kwargs)\u001b[0m\n\u001b[0;32m    297\u001b[0m                 )\n\u001b[0;32m    298\u001b[0m                 \u001b[0mwarnings\u001b[0m\u001b[1;33m.\u001b[0m\u001b[0mwarn\u001b[0m\u001b[1;33m(\u001b[0m\u001b[0mmsg\u001b[0m\u001b[1;33m,\u001b[0m \u001b[0mFutureWarning\u001b[0m\u001b[1;33m,\u001b[0m \u001b[0mstacklevel\u001b[0m\u001b[1;33m=\u001b[0m\u001b[0mstacklevel\u001b[0m\u001b[1;33m)\u001b[0m\u001b[1;33m\u001b[0m\u001b[1;33m\u001b[0m\u001b[0m\n\u001b[1;32m--> 299\u001b[1;33m             \u001b[1;32mreturn\u001b[0m \u001b[0mfunc\u001b[0m\u001b[1;33m(\u001b[0m\u001b[1;33m*\u001b[0m\u001b[0margs\u001b[0m\u001b[1;33m,\u001b[0m \u001b[1;33m**\u001b[0m\u001b[0mkwargs\u001b[0m\u001b[1;33m)\u001b[0m\u001b[1;33m\u001b[0m\u001b[1;33m\u001b[0m\u001b[0m\n\u001b[0m\u001b[0;32m    300\u001b[0m \u001b[1;33m\u001b[0m\u001b[0m\n\u001b[0;32m    301\u001b[0m         \u001b[1;32mreturn\u001b[0m \u001b[0mwrapper\u001b[0m\u001b[1;33m\u001b[0m\u001b[1;33m\u001b[0m\u001b[0m\n",
      "\u001b[1;32mD:\\anaconda\\lib\\site-packages\\pandas\\io\\excel\\_base.py\u001b[0m in \u001b[0;36mread_excel\u001b[1;34m(io, sheet_name, header, names, index_col, usecols, squeeze, dtype, engine, converters, true_values, false_values, skiprows, nrows, na_values, keep_default_na, na_filter, verbose, parse_dates, date_parser, thousands, comment, skipfooter, convert_float, mangle_dupe_cols, storage_options)\u001b[0m\n\u001b[0;32m    342\u001b[0m \u001b[1;33m\u001b[0m\u001b[0m\n\u001b[0;32m    343\u001b[0m     \u001b[1;32mtry\u001b[0m\u001b[1;33m:\u001b[0m\u001b[1;33m\u001b[0m\u001b[1;33m\u001b[0m\u001b[0m\n\u001b[1;32m--> 344\u001b[1;33m         data = io.parse(\n\u001b[0m\u001b[0;32m    345\u001b[0m             \u001b[0msheet_name\u001b[0m\u001b[1;33m=\u001b[0m\u001b[0msheet_name\u001b[0m\u001b[1;33m,\u001b[0m\u001b[1;33m\u001b[0m\u001b[1;33m\u001b[0m\u001b[0m\n\u001b[0;32m    346\u001b[0m             \u001b[0mheader\u001b[0m\u001b[1;33m=\u001b[0m\u001b[0mheader\u001b[0m\u001b[1;33m,\u001b[0m\u001b[1;33m\u001b[0m\u001b[1;33m\u001b[0m\u001b[0m\n",
      "\u001b[1;32mD:\\anaconda\\lib\\site-packages\\pandas\\io\\excel\\_base.py\u001b[0m in \u001b[0;36mparse\u001b[1;34m(self, sheet_name, header, names, index_col, usecols, squeeze, converters, true_values, false_values, skiprows, nrows, na_values, parse_dates, date_parser, thousands, comment, skipfooter, convert_float, mangle_dupe_cols, **kwds)\u001b[0m\n\u001b[0;32m   1168\u001b[0m             \u001b[0mDataFrame\u001b[0m \u001b[1;32mfrom\u001b[0m \u001b[0mthe\u001b[0m \u001b[0mpassed\u001b[0m \u001b[1;32min\u001b[0m \u001b[0mExcel\u001b[0m \u001b[0mfile\u001b[0m\u001b[1;33m.\u001b[0m\u001b[1;33m\u001b[0m\u001b[1;33m\u001b[0m\u001b[0m\n\u001b[0;32m   1169\u001b[0m         \"\"\"\n\u001b[1;32m-> 1170\u001b[1;33m         return self._reader.parse(\n\u001b[0m\u001b[0;32m   1171\u001b[0m             \u001b[0msheet_name\u001b[0m\u001b[1;33m=\u001b[0m\u001b[0msheet_name\u001b[0m\u001b[1;33m,\u001b[0m\u001b[1;33m\u001b[0m\u001b[1;33m\u001b[0m\u001b[0m\n\u001b[0;32m   1172\u001b[0m             \u001b[0mheader\u001b[0m\u001b[1;33m=\u001b[0m\u001b[0mheader\u001b[0m\u001b[1;33m,\u001b[0m\u001b[1;33m\u001b[0m\u001b[1;33m\u001b[0m\u001b[0m\n",
      "\u001b[1;32mD:\\anaconda\\lib\\site-packages\\pandas\\io\\excel\\_base.py\u001b[0m in \u001b[0;36mparse\u001b[1;34m(self, sheet_name, header, names, index_col, usecols, squeeze, dtype, true_values, false_values, skiprows, nrows, na_values, verbose, parse_dates, date_parser, thousands, comment, skipfooter, convert_float, mangle_dupe_cols, **kwds)\u001b[0m\n\u001b[0;32m    490\u001b[0m                 \u001b[0msheet\u001b[0m \u001b[1;33m=\u001b[0m \u001b[0mself\u001b[0m\u001b[1;33m.\u001b[0m\u001b[0mget_sheet_by_index\u001b[0m\u001b[1;33m(\u001b[0m\u001b[0masheetname\u001b[0m\u001b[1;33m)\u001b[0m\u001b[1;33m\u001b[0m\u001b[1;33m\u001b[0m\u001b[0m\n\u001b[0;32m    491\u001b[0m \u001b[1;33m\u001b[0m\u001b[0m\n\u001b[1;32m--> 492\u001b[1;33m             \u001b[0mdata\u001b[0m \u001b[1;33m=\u001b[0m \u001b[0mself\u001b[0m\u001b[1;33m.\u001b[0m\u001b[0mget_sheet_data\u001b[0m\u001b[1;33m(\u001b[0m\u001b[0msheet\u001b[0m\u001b[1;33m,\u001b[0m \u001b[0mconvert_float\u001b[0m\u001b[1;33m)\u001b[0m\u001b[1;33m\u001b[0m\u001b[1;33m\u001b[0m\u001b[0m\n\u001b[0m\u001b[0;32m    493\u001b[0m             \u001b[0musecols\u001b[0m \u001b[1;33m=\u001b[0m \u001b[0mmaybe_convert_usecols\u001b[0m\u001b[1;33m(\u001b[0m\u001b[0musecols\u001b[0m\u001b[1;33m)\u001b[0m\u001b[1;33m\u001b[0m\u001b[1;33m\u001b[0m\u001b[0m\n\u001b[0;32m    494\u001b[0m \u001b[1;33m\u001b[0m\u001b[0m\n",
      "\u001b[1;32mD:\\anaconda\\lib\\site-packages\\pandas\\io\\excel\\_openpyxl.py\u001b[0m in \u001b[0;36mget_sheet_data\u001b[1;34m(self, sheet, convert_float)\u001b[0m\n\u001b[0;32m    546\u001b[0m         \u001b[0mdata\u001b[0m\u001b[1;33m:\u001b[0m \u001b[0mList\u001b[0m\u001b[1;33m[\u001b[0m\u001b[0mList\u001b[0m\u001b[1;33m[\u001b[0m\u001b[0mScalar\u001b[0m\u001b[1;33m]\u001b[0m\u001b[1;33m]\u001b[0m \u001b[1;33m=\u001b[0m \u001b[1;33m[\u001b[0m\u001b[1;33m]\u001b[0m\u001b[1;33m\u001b[0m\u001b[1;33m\u001b[0m\u001b[0m\n\u001b[0;32m    547\u001b[0m         \u001b[0mlast_row_with_data\u001b[0m \u001b[1;33m=\u001b[0m \u001b[1;33m-\u001b[0m\u001b[1;36m1\u001b[0m\u001b[1;33m\u001b[0m\u001b[1;33m\u001b[0m\u001b[0m\n\u001b[1;32m--> 548\u001b[1;33m         \u001b[1;32mfor\u001b[0m \u001b[0mrow_number\u001b[0m\u001b[1;33m,\u001b[0m \u001b[0mrow\u001b[0m \u001b[1;32min\u001b[0m \u001b[0menumerate\u001b[0m\u001b[1;33m(\u001b[0m\u001b[0msheet\u001b[0m\u001b[1;33m.\u001b[0m\u001b[0mrows\u001b[0m\u001b[1;33m)\u001b[0m\u001b[1;33m:\u001b[0m\u001b[1;33m\u001b[0m\u001b[1;33m\u001b[0m\u001b[0m\n\u001b[0m\u001b[0;32m    549\u001b[0m             \u001b[0mconverted_row\u001b[0m \u001b[1;33m=\u001b[0m \u001b[1;33m[\u001b[0m\u001b[0mself\u001b[0m\u001b[1;33m.\u001b[0m\u001b[0m_convert_cell\u001b[0m\u001b[1;33m(\u001b[0m\u001b[0mcell\u001b[0m\u001b[1;33m,\u001b[0m \u001b[0mconvert_float\u001b[0m\u001b[1;33m)\u001b[0m \u001b[1;32mfor\u001b[0m \u001b[0mcell\u001b[0m \u001b[1;32min\u001b[0m \u001b[0mrow\u001b[0m\u001b[1;33m]\u001b[0m\u001b[1;33m\u001b[0m\u001b[1;33m\u001b[0m\u001b[0m\n\u001b[0;32m    550\u001b[0m             \u001b[1;32mif\u001b[0m \u001b[1;32mnot\u001b[0m \u001b[0mall\u001b[0m\u001b[1;33m(\u001b[0m\u001b[0mcell\u001b[0m \u001b[1;33m==\u001b[0m \u001b[1;34m\"\"\u001b[0m \u001b[1;32mfor\u001b[0m \u001b[0mcell\u001b[0m \u001b[1;32min\u001b[0m \u001b[0mconverted_row\u001b[0m\u001b[1;33m)\u001b[0m\u001b[1;33m:\u001b[0m\u001b[1;33m\u001b[0m\u001b[1;33m\u001b[0m\u001b[0m\n",
      "\u001b[1;32mD:\\anaconda\\lib\\site-packages\\openpyxl\\worksheet\\_read_only.py\u001b[0m in \u001b[0;36m_cells_by_row\u001b[1;34m(self, min_col, min_row, max_col, max_row, values_only)\u001b[0m\n\u001b[0;32m     77\u001b[0m                                  \u001b[0mdata_only\u001b[0m\u001b[1;33m=\u001b[0m\u001b[0mself\u001b[0m\u001b[1;33m.\u001b[0m\u001b[0mparent\u001b[0m\u001b[1;33m.\u001b[0m\u001b[0mdata_only\u001b[0m\u001b[1;33m,\u001b[0m \u001b[0mepoch\u001b[0m\u001b[1;33m=\u001b[0m\u001b[0mself\u001b[0m\u001b[1;33m.\u001b[0m\u001b[0mparent\u001b[0m\u001b[1;33m.\u001b[0m\u001b[0mepoch\u001b[0m\u001b[1;33m,\u001b[0m\u001b[1;33m\u001b[0m\u001b[1;33m\u001b[0m\u001b[0m\n\u001b[0;32m     78\u001b[0m                                  date_formats=self.parent._date_formats)\n\u001b[1;32m---> 79\u001b[1;33m         \u001b[1;32mfor\u001b[0m \u001b[0midx\u001b[0m\u001b[1;33m,\u001b[0m \u001b[0mrow\u001b[0m \u001b[1;32min\u001b[0m \u001b[0mparser\u001b[0m\u001b[1;33m.\u001b[0m\u001b[0mparse\u001b[0m\u001b[1;33m(\u001b[0m\u001b[1;33m)\u001b[0m\u001b[1;33m:\u001b[0m\u001b[1;33m\u001b[0m\u001b[1;33m\u001b[0m\u001b[0m\n\u001b[0m\u001b[0;32m     80\u001b[0m             \u001b[1;32mif\u001b[0m \u001b[0mmax_row\u001b[0m \u001b[1;32mis\u001b[0m \u001b[1;32mnot\u001b[0m \u001b[1;32mNone\u001b[0m \u001b[1;32mand\u001b[0m \u001b[0midx\u001b[0m \u001b[1;33m>\u001b[0m \u001b[0mmax_row\u001b[0m\u001b[1;33m:\u001b[0m\u001b[1;33m\u001b[0m\u001b[1;33m\u001b[0m\u001b[0m\n\u001b[0;32m     81\u001b[0m                 \u001b[1;32mbreak\u001b[0m\u001b[1;33m\u001b[0m\u001b[1;33m\u001b[0m\u001b[0m\n",
      "\u001b[1;32mD:\\anaconda\\lib\\site-packages\\openpyxl\\worksheet\\_reader.py\u001b[0m in \u001b[0;36mparse\u001b[1;34m(self)\u001b[0m\n\u001b[0;32m    142\u001b[0m         \u001b[0mit\u001b[0m \u001b[1;33m=\u001b[0m \u001b[0miterparse\u001b[0m\u001b[1;33m(\u001b[0m\u001b[0mself\u001b[0m\u001b[1;33m.\u001b[0m\u001b[0msource\u001b[0m\u001b[1;33m)\u001b[0m \u001b[1;31m# add a finaliser to close the source when this becomes possible\u001b[0m\u001b[1;33m\u001b[0m\u001b[1;33m\u001b[0m\u001b[0m\n\u001b[0;32m    143\u001b[0m \u001b[1;33m\u001b[0m\u001b[0m\n\u001b[1;32m--> 144\u001b[1;33m         \u001b[1;32mfor\u001b[0m \u001b[0m_\u001b[0m\u001b[1;33m,\u001b[0m \u001b[0melement\u001b[0m \u001b[1;32min\u001b[0m \u001b[0mit\u001b[0m\u001b[1;33m:\u001b[0m\u001b[1;33m\u001b[0m\u001b[1;33m\u001b[0m\u001b[0m\n\u001b[0m\u001b[0;32m    145\u001b[0m             \u001b[0mtag_name\u001b[0m \u001b[1;33m=\u001b[0m \u001b[0melement\u001b[0m\u001b[1;33m.\u001b[0m\u001b[0mtag\u001b[0m\u001b[1;33m\u001b[0m\u001b[1;33m\u001b[0m\u001b[0m\n\u001b[0;32m    146\u001b[0m             \u001b[1;32mif\u001b[0m \u001b[0mtag_name\u001b[0m \u001b[1;32min\u001b[0m \u001b[0mdispatcher\u001b[0m\u001b[1;33m:\u001b[0m\u001b[1;33m\u001b[0m\u001b[1;33m\u001b[0m\u001b[0m\n",
      "\u001b[1;32mD:\\anaconda\\lib\\xml\\etree\\ElementTree.py\u001b[0m in \u001b[0;36miterator\u001b[1;34m()\u001b[0m\n\u001b[0;32m   1225\u001b[0m         \u001b[1;32mtry\u001b[0m\u001b[1;33m:\u001b[0m\u001b[1;33m\u001b[0m\u001b[1;33m\u001b[0m\u001b[0m\n\u001b[0;32m   1226\u001b[0m             \u001b[1;32mwhile\u001b[0m \u001b[1;32mTrue\u001b[0m\u001b[1;33m:\u001b[0m\u001b[1;33m\u001b[0m\u001b[1;33m\u001b[0m\u001b[0m\n\u001b[1;32m-> 1227\u001b[1;33m                 \u001b[1;32myield\u001b[0m \u001b[1;32mfrom\u001b[0m \u001b[0mpullparser\u001b[0m\u001b[1;33m.\u001b[0m\u001b[0mread_events\u001b[0m\u001b[1;33m(\u001b[0m\u001b[1;33m)\u001b[0m\u001b[1;33m\u001b[0m\u001b[1;33m\u001b[0m\u001b[0m\n\u001b[0m\u001b[0;32m   1228\u001b[0m                 \u001b[1;31m# load event buffer\u001b[0m\u001b[1;33m\u001b[0m\u001b[1;33m\u001b[0m\u001b[1;33m\u001b[0m\u001b[0m\n\u001b[0;32m   1229\u001b[0m                 \u001b[0mdata\u001b[0m \u001b[1;33m=\u001b[0m \u001b[0msource\u001b[0m\u001b[1;33m.\u001b[0m\u001b[0mread\u001b[0m\u001b[1;33m(\u001b[0m\u001b[1;36m16\u001b[0m \u001b[1;33m*\u001b[0m \u001b[1;36m1024\u001b[0m\u001b[1;33m)\u001b[0m\u001b[1;33m\u001b[0m\u001b[1;33m\u001b[0m\u001b[0m\n",
      "\u001b[1;32mD:\\anaconda\\lib\\xml\\etree\\ElementTree.py\u001b[0m in \u001b[0;36mread_events\u001b[1;34m(self)\u001b[0m\n\u001b[0;32m   1298\u001b[0m         \u001b[0mevents\u001b[0m \u001b[1;33m=\u001b[0m \u001b[0mself\u001b[0m\u001b[1;33m.\u001b[0m\u001b[0m_events_queue\u001b[0m\u001b[1;33m\u001b[0m\u001b[1;33m\u001b[0m\u001b[0m\n\u001b[0;32m   1299\u001b[0m         \u001b[1;32mwhile\u001b[0m \u001b[0mevents\u001b[0m\u001b[1;33m:\u001b[0m\u001b[1;33m\u001b[0m\u001b[1;33m\u001b[0m\u001b[0m\n\u001b[1;32m-> 1300\u001b[1;33m             \u001b[0mevent\u001b[0m \u001b[1;33m=\u001b[0m \u001b[0mevents\u001b[0m\u001b[1;33m.\u001b[0m\u001b[0mpopleft\u001b[0m\u001b[1;33m(\u001b[0m\u001b[1;33m)\u001b[0m\u001b[1;33m\u001b[0m\u001b[1;33m\u001b[0m\u001b[0m\n\u001b[0m\u001b[0;32m   1301\u001b[0m             \u001b[1;32mif\u001b[0m \u001b[0misinstance\u001b[0m\u001b[1;33m(\u001b[0m\u001b[0mevent\u001b[0m\u001b[1;33m,\u001b[0m \u001b[0mException\u001b[0m\u001b[1;33m)\u001b[0m\u001b[1;33m:\u001b[0m\u001b[1;33m\u001b[0m\u001b[1;33m\u001b[0m\u001b[0m\n\u001b[0;32m   1302\u001b[0m                 \u001b[1;32mraise\u001b[0m \u001b[0mevent\u001b[0m\u001b[1;33m\u001b[0m\u001b[1;33m\u001b[0m\u001b[0m\n",
      "\u001b[1;31mKeyboardInterrupt\u001b[0m: "
     ]
    }
   ],
   "source": [
    "ADMET = pd.read_excel('C:/Users/TANGLINGHUI331/Desktop/华为杯/2021年D题/ADMET.xlsx')\n",
    "#ER = pd.read_excel('C:/Users/TANGLINGHUI331/Desktop/华为杯/2021年D题/ERα_activity.xlsx')\n",
    "Molecular = pd.read_excel('C:/Users/TANGLINGHUI331/Desktop/华为杯/2021年D题/Molecular_Descriptor.xlsx') "
   ]
  },
  {
   "cell_type": "code",
   "execution_count": null,
   "id": "c966b8df",
   "metadata": {},
   "outputs": [],
   "source": [
    "fea_columns = Molecular.columns.drop('SMILES')\n",
    "fea_columns"
   ]
  },
  {
   "cell_type": "code",
   "execution_count": 4,
   "id": "53c55f40",
   "metadata": {},
   "outputs": [],
   "source": [
    "# 删除0大于85%的特征\n",
    "def dele0(data,columns):\n",
    "    fea_columns0 = []\n",
    "    for i in columns:\n",
    "        if (sum(data[i]==0)/data.shape[0])<0.15:\n",
    "            fea_columns0.append(i)\n",
    "    return fea_columns0"
   ]
  },
  {
   "cell_type": "code",
   "execution_count": 5,
   "id": "63d68655",
   "metadata": {},
   "outputs": [],
   "source": [
    "# 删除0>85%的特征后剩余197个特征\n",
    "fea_columns0 = dele0(Molecular,fea_columns)\n",
    "sel_Molecular0 = Molecular[fea_columns0]"
   ]
  },
  {
   "cell_type": "code",
   "execution_count": 35,
   "id": "ee33e6c3",
   "metadata": {},
   "outputs": [
    {
     "data": {
      "text/plain": [
       "(1974, 197)"
      ]
     },
     "execution_count": 35,
     "metadata": {},
     "output_type": "execute_result"
    }
   ],
   "source": [
    "sel_Molecular0.shape"
   ]
  },
  {
   "cell_type": "code",
   "execution_count": 6,
   "id": "316d14ff",
   "metadata": {},
   "outputs": [],
   "source": [
    "# 计算相关性\n",
    "sel_Molecular_cor = sel_Molecular0.corr()"
   ]
  },
  {
   "cell_type": "code",
   "execution_count": 8,
   "id": "1e6f86c5",
   "metadata": {},
   "outputs": [
    {
     "name": "stdout",
     "output_type": "stream",
     "text": [
      "818\n"
     ]
    }
   ],
   "source": [
    "# 得到相关性>0.2的两列\n",
    "cor_list = []\n",
    "for i in range(len(sel_Molecular_cor.columns)):\n",
    "    for j in range(i+1,len(sel_Molecular_cor.index)):\n",
    "        if sel_Molecular_cor.iloc[i][j]>0.9 or sel_Molecular_cor.iloc[i][j]<-0.9:\n",
    "            cor_list.append([sel_Molecular_cor.index[i],sel_Molecular_cor.index[j]])\n",
    "print(len(cor_list))"
   ]
  },
  {
   "cell_type": "code",
   "execution_count": 9,
   "id": "a47e7c31",
   "metadata": {},
   "outputs": [
    {
     "data": {
      "text/plain": [
       "80"
      ]
     },
     "execution_count": 9,
     "metadata": {},
     "output_type": "execute_result"
    }
   ],
   "source": [
    "# 根据相关性，选择删除的特征列\n",
    "cor_del = []\n",
    "for i in cor_list:\n",
    "    cor_del.append(i[1])\n",
    "fea_col1 = []\n",
    "for i in fea_columns0:\n",
    "    if i not in cor_del:\n",
    "        fea_col1.append(i)\n",
    "len(fea_col1)"
   ]
  },
  {
   "cell_type": "code",
   "execution_count": 10,
   "id": "f33c7951",
   "metadata": {},
   "outputs": [],
   "source": [
    "# 得到初步筛选后的数据集，并进行划分\n",
    "X = Molecular[fea_col1]\n",
    "y = ER['pIC50']\n",
    "X_train,X_test,y_train,y_test = train_test_split(X,y,test_size=0.2)"
   ]
  },
  {
   "cell_type": "code",
   "execution_count": 11,
   "id": "3b87ad08",
   "metadata": {},
   "outputs": [
    {
     "name": "stdout",
     "output_type": "stream",
     "text": [
      "(1500, 80)\n"
     ]
    }
   ],
   "source": [
    "# 选择遗传算法输入的训练集\n",
    "X_train1 = X_train[:1500]\n",
    "print(X_train1.shape)\n",
    "X_train2 = np.mat(X_train1)"
   ]
  },
  {
   "cell_type": "code",
   "execution_count": 12,
   "id": "4feb0f1c",
   "metadata": {},
   "outputs": [],
   "source": [
    "# 设置遗传算法参数\n",
    "pc = 0.02      # pc为变异的概率\n",
    "t = 10       #遗传算法迭代的次数\n",
    "n = 500        #种群的个体数,要求大于20以保证具有随机性"
   ]
  },
  {
   "cell_type": "code",
   "execution_count": 13,
   "id": "62feb790",
   "metadata": {},
   "outputs": [
    {
     "name": "stdout",
     "output_type": "stream",
     "text": [
      "\n",
      "\n",
      "在取30维的时候，通过遗传算法得出的最优适应度值为：0.003271\n",
      "选出的最优染色体为：\n",
      "[1. 1. 0. 0. 1. 1. 0. 0. 1. 0. 0. 1. 0. 0. 1. 1. 0. 1. 1. 0. 0. 1. 1. 0.\n",
      " 0. 0. 0. 0. 0. 0. 0. 0. 1. 0. 0. 0. 0. 0. 0. 0. 1. 0. 1. 1. 1. 1. 1. 1.\n",
      " 1. 1. 1. 0. 0. 1. 1. 0. 0. 1. 0. 0. 0. 0. 0. 0. 0. 0. 0. 1. 0. 0. 0. 0.\n",
      " 1. 0. 0. 0. 1. 1. 0. 0.]\n",
      "选出的最优特征为：\n",
      "[ 1.  2.  5.  6.  9. 12. 15. 16. 18. 19. 22. 23. 33. 41. 43. 44. 45. 46.\n",
      " 47. 48. 49. 50. 51. 54. 55. 58. 68. 73. 77. 78.]\n"
     ]
    }
   ],
   "source": [
    "#遗传算法\n",
    "def GA(d):\n",
    "    population = np.zeros((n,80))      # 初始化种群\n",
    "    for i in range(n):                # 定义种群的个体数为 n\n",
    "        a = np.zeros(80-d)\n",
    "        b = np.ones(d)                # 将选择的d维特征定义为个体c中的1\n",
    "        c = np.append(a,b)\n",
    "        c = (np.random.permutation(c.T)).T    # 随机生成一个d维的个体\n",
    "        population[i] = c             # 初代的种群为 population，共有n个个体\n",
    "        \n",
    "    # 遗传算法的迭代次数为t\n",
    "    fitness_change = np.zeros(t)\n",
    "    for i in range(t):\n",
    "        fitness = np.zeros(n)             # fitness为每一个个体的适应度值\n",
    "        for j in range(n):\n",
    "            fitness[j] = Jd(population[j])          # 计算每一个体的适应度值   \n",
    "        population = selection(population,fitness)  # 通过概率选择产生新一代的种群\n",
    "        population = crossover(population)          # 通过交叉产生新的个体\n",
    "        population = mutation(population)           # 通过变异产生新个体\n",
    "        fitness_change[i] = max(fitness)      #找出每一代的适应度最大的染色体的适应度值\n",
    "        \n",
    "        \n",
    "    # 随着迭代的进行，每个个体的适应度值应该会不断增加，所以总的适应度值fitness求平均应该会变大\n",
    "    \n",
    "    best_fitness = max(fitness)\n",
    "    best_people = population[fitness.argmax()]\n",
    "    \n",
    "    return best_people,best_fitness,fitness_change,population\n",
    "    \n",
    "    \n",
    "    \n",
    "\n",
    "\n",
    "#轮盘赌选择\n",
    "def selection(population,fitness):\n",
    "    fitness_sum = np.zeros(n)\n",
    "    for i in range(n):\n",
    "        if i==0:\n",
    "            fitness_sum[i] = fitness[i]\n",
    "        else:\n",
    "            fitness_sum[i] = fitness[i] + fitness_sum[i-1]\n",
    "    for i in range(n):\n",
    "        fitness_sum[i] = fitness_sum[i] / sum(fitness)\n",
    "    \n",
    "    #选择新的种群\n",
    "    population_new = np.zeros((n,80))\n",
    "    for i in range(n):\n",
    "        rand = np.random.uniform(0,1)\n",
    "        for j in range(n):\n",
    "            if j==0:\n",
    "                if rand<=fitness_sum[j]:\n",
    "                    population_new[i] = population[j]\n",
    "            else:\n",
    "                if fitness_sum[j-1]<rand and rand<=fitness_sum[j]:\n",
    "                    population_new[i] = population[j]\n",
    "    return population_new\n",
    "                \n",
    "\n",
    "#交叉操作\n",
    "def crossover(population):\n",
    "    father = population[0:250,:]\n",
    "    mother = population[250:,:]\n",
    "    np.random.shuffle(father)       # 将父代个体按行打乱以随机配对\n",
    "    np.random.shuffle(mother)\n",
    "    for i in range(250):\n",
    "        father_1 = father[i]\n",
    "        mother_1 = mother[i]\n",
    "        one_zero = []\n",
    "        zero_one = []\n",
    "        for j in range(80):\n",
    "            if father_1[j]==1 and mother_1[j]==0:\n",
    "                one_zero.append(j)\n",
    "            if father_1[j]==0 and mother_1[j]==1:\n",
    "                zero_one.append(j)\n",
    "        length1 = len(one_zero)\n",
    "        length2 = len(zero_one)\n",
    "        length = max(length1,length2)\n",
    "        half_length = int(length/2)        #half_length为交叉的位数 \n",
    "        for k in range(half_length):       #进行交叉操作\n",
    "            p = one_zero[k]\n",
    "            q = zero_one[k]\n",
    "            father_1[p]=0\n",
    "            mother_1[p]=1\n",
    "            father_1[q]=1\n",
    "            mother_1[q]=0\n",
    "        father[i] = father_1               #将交叉后的个体替换原来的个体\n",
    "        mother[i] = mother_1\n",
    "    population = np.append(father,mother,axis=0)\n",
    "    return population\n",
    "                \n",
    "            \n",
    "    \n",
    "#变异操作\n",
    "def mutation(population):\n",
    "    for i in range(n):\n",
    "        c = np.random.uniform(0,1)\n",
    "        if c<=pc:\n",
    "            mutation_s = population[i]\n",
    "            zero = []                           # zero存的是变异个体中第几个数为0\n",
    "            one = []                            # one存的是变异个体中第几个数为1\n",
    "            for j in range(80):\n",
    "                if mutation_s[j]==0:\n",
    "                    zero.append(j)\n",
    "                else:\n",
    "                    one.append(j)\n",
    "            a = np.random.randint(0,len(zero))    # e是随机选择由0变为1的位置\n",
    "            b = np.random.randint(0,len(one))     # f是随机选择由1变为0的位置\n",
    "            e = zero[a]\n",
    "            f = one[b]\n",
    "            mutation_s[e] = 1\n",
    "            mutation_s[f] = 0\n",
    "            population[i] = mutation_s\n",
    "            \n",
    "    return population\n",
    "\n",
    "\n",
    "#个体适应度函数 Jd(x)，x是d维特征向量(1*80维的行向量,1表示选择该特征)\n",
    "def Jd(x):\n",
    "    #从特征向量x中提取出相应的特征\n",
    "    Feature = np.zeros(d)        #数组Feature用来存 x选择的是哪d个特征\n",
    "    k = 0\n",
    "    for i in range(80):\n",
    "        if x[i] == 1:\n",
    "            Feature[k] = i\n",
    "            k+=1\n",
    "    \n",
    "    #将4个特征从X_train2数据集中取出重组成一个1500*d的矩阵X_train3\n",
    "    X_train3 = np.zeros((1500,1))\n",
    "    for i in range(d):\n",
    "        p = Feature[i]\n",
    "        p = p.astype(int)\n",
    "        q = X_train2[:,p]\n",
    "        q = q.reshape(1500,1)\n",
    "        X_train3 = np.append(X_train3,q,axis=1)\n",
    "    X_train3 = np.delete(X_train3,0,axis=1)\n",
    "    \n",
    "    #求类间离散度矩阵Sb\n",
    "    X_train3_1 = X_train3[0:500,:]        #数据集分为三类\n",
    "    X_train3_2 = X_train3[500:1000,:]\n",
    "    X_train3_3 = X_train3[1000:1500,:]\n",
    "    m = np.mean(X_train3,axis=0)       #总体均值向量\n",
    "    m1 = np.mean(X_train3_1,axis=0)    #第一类的均值向量\n",
    "    m2 = np.mean(X_train3_2,axis=0)    #第二类的均值向量\n",
    "    m3 = np.mean(X_train3_3,axis=0)    #第二类的均值向量\n",
    "    m = m.reshape(d,1)               #将均值向量转换为列向量以便于计算\n",
    "    m1 = m1.reshape(d,1)\n",
    "    m2 = m2.reshape(d,1)\n",
    "    m3 = m3.reshape(d,1)\n",
    "    Sb = ((m1 - m).dot((m1 - m).T) + (m2 - m).dot((m2 - m).T) + (m3 - m).dot((m3 - m).T))/3 #除以类别个数\n",
    "    \n",
    "    #求类内离散度矩阵Sw\n",
    "    S1 = np.zeros((d,d))\n",
    "    S2 = np.zeros((d,d))\n",
    "    S3 = np.zeros((d,d))\n",
    "    for i in range(500):\n",
    "        S1 += (X_train3_1[i].reshape(d,1)-m1).dot((X_train3_1[i].reshape(d,1)-m1).T)\n",
    "    S1 = S1/500\n",
    "    for i in range(500):\n",
    "        S2 += (X_train3_2[i].reshape(d,1)-m2).dot((X_train3_2[i].reshape(d,1)-m2).T)\n",
    "    S2 = S2/500\n",
    "    for i in range(500):\n",
    "        S3 += (X_train3_3[i].reshape(d,1)-m3).dot((X_train3_3[i].reshape(d,1)-m3).T)\n",
    "    S3 = S3/500\n",
    "    \n",
    "    Sw = (S1 + S2 + S3)/3\n",
    "    \n",
    "    #计算个体适应度函数 Jd(x)\n",
    "    J1 = np.trace(Sb)\n",
    "    J2 = np.trace(Sw)\n",
    "    Jd = J1/J2\n",
    "    \n",
    "    return Jd\n",
    "    \n",
    "\n",
    "\n",
    "if __name__ == '__main__':\n",
    "    \n",
    "    # best_d = np.zeros(d)          # judge存的是每一个维数的最优适应度\n",
    "    \n",
    "    # fitness_change是遗传算法在迭代过程中适应度变化\n",
    "    # best是每一维数迭代到最后的最优的适应度，用于比较\n",
    "    \n",
    "    for d in range(30,31):\n",
    "        print(\"\\n\")\n",
    "        best_people,best_fitness,fitness_change,best_population = GA(d)\n",
    "        choice = np.zeros(d)\n",
    "        k = 0\n",
    "        print(\"在取%d维的时候，通过遗传算法得出的最优适应度值为：%.6f\"%(d,best_fitness))\n",
    "        print(\"选出的最优染色体为：\")\n",
    "        print(best_people)\n",
    "        for j in range(80):\n",
    "            if best_people[j] == 1:\n",
    "                choice[k]=j+1\n",
    "                k+=1\n",
    "        print(\"选出的最优特征为：\")\n",
    "        print(choice)\n",
    "    \n",
    "    '''\n",
    "    #画图\n",
    "    x = np.arange(0,t,1)\n",
    "    plt.xlabel('dimension')\n",
    "    plt.ylabel('fitness')\n",
    "    plt.ylim((0,50))            # y坐标的范围\n",
    "    plt.plot(x,fitness_change,'b')\n",
    "    '''\n",
    "    \n",
    "    "
   ]
  },
  {
   "cell_type": "code",
   "execution_count": 14,
   "id": "013e4cd2",
   "metadata": {},
   "outputs": [
    {
     "data": {
      "text/plain": [
       "Index(['ALogP', 'ALogp2', 'nO', 'ATSc1', 'ATSc5', 'BCUTw-1h', 'BCUTp-1l',\n",
       "       'BCUTp-1h', 'C2SP2', 'C3SP2', 'VCH-6', 'SC-3', 'SaasC', 'maxHBa',\n",
       "       'maxHother', 'maxaaCH', 'maxaasC', 'hmax', 'hmin', 'gmin',\n",
       "       'LipoaffinityIndex', 'ETA_AlphaP', 'ETA_Epsilon_1', 'ETA_dEpsilon_B',\n",
       "       'ETA_dEpsilon_D', 'ETA_BetaP', 'nAtomP', 'MLFER_BH', 'nRing', 'n6Ring'],\n",
       "      dtype='object')"
      ]
     },
     "execution_count": 14,
     "metadata": {},
     "output_type": "execute_result"
    }
   ],
   "source": [
    "# 得到遗传算法选择的30个特征\n",
    "choice = choice.astype(int)\n",
    "ga_fea = X_train.columns[choice-1]\n",
    "ga_fea"
   ]
  },
  {
   "cell_type": "code",
   "execution_count": 15,
   "id": "5ae85403",
   "metadata": {
    "scrolled": false
   },
   "outputs": [
    {
     "name": "stdout",
     "output_type": "stream",
     "text": [
      "是否应该选择 [False False False False False  True  True  True  True False False False\n",
      "  True  True  True  True False False False False  True False  True False\n",
      " False  True False  True False False False False False  True  True False\n",
      " False False False  True  True False False  True False False  True  True\n",
      "  True False False False False False False False  True False  True False\n",
      " False  True False False False False  True False False  True  True  True\n",
      "  True  True False False False False False  True]\n"
     ]
    }
   ],
   "source": [
    "# RFECV筛选特征\n",
    "\n",
    "# 分类\n",
    "rf = RandomForestRegressor(oob_score=True)\n",
    "rfe = RFE(estimator=rf,n_features_to_select=30)\n",
    "rfe.fit(X_train,y_train)\n",
    "\n",
    "print(\"是否应该选择 %s\" % rfe.support_)\n"
   ]
  },
  {
   "cell_type": "code",
   "execution_count": 16,
   "id": "19e74498",
   "metadata": {},
   "outputs": [],
   "source": [
    "# 得到RFE选择的30个特征\n",
    "rfe_fea = X_train.columns[rfe.support_]"
   ]
  },
  {
   "cell_type": "code",
   "execution_count": 36,
   "id": "e8e90cf1",
   "metadata": {},
   "outputs": [
    {
     "data": {
      "text/plain": [
       "Index(['ATSc1', 'ATSc3', 'ATSc4', 'ATSc5', 'BCUTc-1l', 'BCUTc-1h', 'BCUTp-1l',\n",
       "       'BCUTp-1h', 'SCH-7', 'SC-3', 'VC-5', 'CrippenLogP', 'minHBd', 'minHBa',\n",
       "       'maxHBd', 'maxHBa', 'maxaaCH', 'hmin', 'gmin', 'LipoaffinityIndex',\n",
       "       'ETA_Shape_Y', 'ETA_BetaP_s', 'ETA_EtaP_F', 'nHBAcc', 'MDEC-23',\n",
       "       'MDEC-33', 'MLFER_A', 'MLFER_BH', 'MLFER_S', 'XLogP'],\n",
       "      dtype='object')"
      ]
     },
     "execution_count": 36,
     "metadata": {},
     "output_type": "execute_result"
    }
   ],
   "source": [
    "rfe_fea"
   ]
  },
  {
   "cell_type": "code",
   "execution_count": 17,
   "id": "09eacb43",
   "metadata": {},
   "outputs": [
    {
     "data": {
      "text/plain": [
       "49"
      ]
     },
     "execution_count": 17,
     "metadata": {},
     "output_type": "execute_result"
    }
   ],
   "source": [
    "# 将遗传算法与RFE选择的特征结合\n",
    "sel_fea = []\n",
    "for i in ga_fea:\n",
    "    sel_fea.append(i)\n",
    "for j in rfe_fea:\n",
    "    if j not in sel_fea:\n",
    "        sel_fea.append(j)\n",
    "len(sel_fea)"
   ]
  },
  {
   "cell_type": "code",
   "execution_count": 18,
   "id": "251b18ef",
   "metadata": {},
   "outputs": [],
   "source": [
    "# 得到49个特征的训练集\n",
    "sel_X = X_train[sel_fea]"
   ]
  },
  {
   "cell_type": "code",
   "execution_count": 19,
   "id": "ce0d1db8",
   "metadata": {},
   "outputs": [],
   "source": [
    "sel_X.to_csv('C:/Users/TANGLINGHUI331/Desktop/华为杯/2021年D题/筛选后49个特征数据.csv')"
   ]
  },
  {
   "cell_type": "code",
   "execution_count": 20,
   "id": "a82fa8db",
   "metadata": {},
   "outputs": [
    {
     "name": "stdout",
     "output_type": "stream",
     "text": [
      " 1) MDEC-23                                             0.293548\n",
      " 2) MLFER_A                                             0.059244\n",
      " 3) nHBAcc                                              0.057881\n",
      " 4) ATSc3                                               0.056694\n",
      " 5) BCUTc-1l                                            0.044737\n",
      " 6) BCUTc-1h                                            0.028801\n",
      " 7) MDEC-33                                             0.027608\n",
      " 8) XLogP                                               0.022002\n",
      " 9) LipoaffinityIndex                                   0.021546\n",
      "10) minHBa                                              0.021320\n",
      "11) VC-5                                                0.020037\n",
      "12) MLFER_BH                                            0.018609\n",
      "13) hmin                                                0.017077\n",
      "14) ETA_BetaP_s                                         0.015950\n",
      "15) maxHBa                                              0.015262\n",
      "16) ATSc4                                               0.014583\n",
      "17) maxHBd                                              0.014547\n",
      "18) SCH-7                                               0.014191\n",
      "19) ATSc5                                               0.013206\n",
      "20) CrippenLogP                                         0.013191\n",
      "21) SC-3                                                0.012940\n",
      "22) MLFER_S                                             0.012506\n",
      "23) ETA_Shape_Y                                         0.010787\n",
      "24) SaasC                                               0.010597\n",
      "25) ATSc1                                               0.010237\n",
      "26) gmin                                                0.010229\n",
      "27) BCUTp-1h                                            0.010047\n",
      "28) minHBd                                              0.009985\n",
      "29) ETA_EtaP_F                                          0.009872\n",
      "30) BCUTp-1l                                            0.009249\n",
      "31) maxaaCH                                             0.009146\n",
      "32) maxaasC                                             0.008326\n",
      "33) maxHother                                           0.008305\n",
      "34) VCH-6                                               0.007623\n",
      "35) ETA_BetaP                                           0.006865\n",
      "36) C3SP2                                               0.006524\n",
      "37) ETA_dEpsilon_D                                      0.006520\n",
      "38) hmax                                                0.005934\n",
      "39) ETA_dEpsilon_B                                      0.005879\n",
      "40) ETA_Epsilon_1                                       0.005871\n",
      "41) BCUTw-1h                                            0.005769\n",
      "42) ALogp2                                              0.005652\n",
      "43) ETA_AlphaP                                          0.005059\n",
      "44) ALogP                                               0.004631\n",
      "45) nAtomP                                              0.004230\n",
      "46) nO                                                  0.002653\n",
      "47) C2SP2                                               0.002085\n",
      "48) n6Ring                                              0.001316\n",
      "49) nRing                                               0.001128\n"
     ]
    }
   ],
   "source": [
    "# 随机森林得到特征重要性\n",
    "rf1 = RandomForestRegressor(random_state=0,oob_score=True)\n",
    "rf1.fit(sel_X,y_train)\n",
    "importance = rf1.feature_importances_\n",
    "indices = np.argsort(importance)[::-1]\n",
    "features = sel_X.columns\n",
    "for f in range(sel_X.shape[1]):\n",
    "    print((\"%2d) %-*s %f\" % (f + 1, 51, features[indices[f]], importance[indices[f]])))"
   ]
  },
  {
   "cell_type": "code",
   "execution_count": 21,
   "id": "e30ac9dd",
   "metadata": {},
   "outputs": [
    {
     "name": "stdout",
     "output_type": "stream",
     "text": [
      " 1) MDEC-23                                             0.190510\n",
      " 2) MLFER_A                                             0.145644\n",
      " 3) nHBAcc                                              0.142995\n",
      " 4) LipoaffinityIndex                                   0.047380\n",
      " 5) BCUTc-1l                                            0.042393\n",
      " 6) ATSc3                                               0.035158\n",
      " 7) C3SP2                                               0.033101\n",
      " 8) MDEC-33                                             0.026319\n",
      " 9) XLogP                                               0.023505\n",
      "10) nAtomP                                              0.021949\n",
      "11) maxHBd                                              0.017205\n",
      "12) SCH-7                                               0.015261\n",
      "13) minHBa                                              0.015211\n",
      "14) BCUTc-1h                                            0.015046\n",
      "15) VC-5                                                0.014871\n",
      "16) n6Ring                                              0.012739\n",
      "17) ETA_Shape_Y                                         0.012291\n",
      "18) ETA_EtaP_F                                          0.010646\n",
      "19) CrippenLogP                                         0.009722\n",
      "20) MLFER_S                                             0.009438\n",
      "21) VCH-6                                               0.008667\n",
      "22) SC-3                                                0.008599\n",
      "23) ETA_dEpsilon_D                                      0.008595\n",
      "24) hmin                                                0.007760\n",
      "25) ATSc4                                               0.007565\n",
      "26) BCUTp-1h                                            0.007140\n",
      "27) maxaaCH                                             0.006906\n",
      "28) gmin                                                0.006871\n",
      "29) SaasC                                               0.006816\n",
      "30) MLFER_BH                                            0.006734\n",
      "31) hmax                                                0.006188\n",
      "32) ETA_BetaP_s                                         0.006000\n",
      "33) ATSc1                                               0.005628\n",
      "34) ETA_Epsilon_1                                       0.005326\n",
      "35) C2SP2                                               0.005259\n",
      "36) BCUTw-1h                                            0.005247\n",
      "37) BCUTp-1l                                            0.005164\n",
      "38) ETA_BetaP                                           0.005139\n",
      "39) minHBd                                              0.004978\n",
      "40) ETA_AlphaP                                          0.004961\n",
      "41) maxHBa                                              0.004826\n",
      "42) maxHother                                           0.004777\n",
      "43) ATSc5                                               0.004736\n",
      "44) ETA_dEpsilon_B                                      0.004138\n",
      "45) nO                                                  0.003726\n",
      "46) maxaasC                                             0.002944\n",
      "47) ALogp2                                              0.002044\n",
      "48) ALogP                                               0.001210\n",
      "49) nRing                                               0.000674\n"
     ]
    }
   ],
   "source": [
    "# XGBoost得到特征重要性\n",
    "xgr = xgb.XGBRegressor()\n",
    "xgr.fit(sel_X,y_train)\n",
    "fscore = xgr.feature_importances_\n",
    "indices = np.argsort(fscore)[::-1]\n",
    "features = sel_X.columns\n",
    "for f in range(sel_X.shape[1]):\n",
    "    print((\"%2d) %-*s %f\" % (f + 1, 51, features[indices[f]], fscore[indices[f]])))"
   ]
  },
  {
   "cell_type": "code",
   "execution_count": 22,
   "id": "3891dafe",
   "metadata": {},
   "outputs": [],
   "source": [
    "# 得到得分和排名\n",
    "score = pd.DataFrame(columns = ['features','xg_score','rf_score'])\n",
    "score['features'] = features\n",
    "score['xg_score'] = fscore\n",
    "score['rf_score'] = importance\n",
    "sort_score1 = score.sort_values(by='xg_score')\n",
    "sort_score2 = score.sort_values(by='rf_score')\n",
    "score['xg_rank'] = score['xg_score'].rank(ascending=False)\n",
    "score['rf_rank'] = score['rf_score'].rank(ascending=False)\n",
    "score['score'] = (score['xg_score']+score['rf_score'])/2\n",
    "score['rank'] = score['score'].rank(ascending=False)\n",
    "final_score = score.sort_values(by='rank')\n",
    "final_score.to_excel('C:/Users/TANGLINGHUI331/Desktop/49个特征排序.xlsx')"
   ]
  },
  {
   "cell_type": "code",
   "execution_count": 31,
   "id": "171e6a71",
   "metadata": {
    "scrolled": false
   },
   "outputs": [
    {
     "name": "stderr",
     "output_type": "stream",
     "text": [
      "<ipython-input-31-deb9bdc5de66>:2: SettingWithCopyWarning: \n",
      "A value is trying to be set on a copy of a slice from a DataFrame.\n",
      "Try using .loc[row_indexer,col_indexer] = value instead\n",
      "\n",
      "See the caveats in the documentation: https://pandas.pydata.org/pandas-docs/stable/user_guide/indexing.html#returning-a-view-versus-a-copy\n",
      "  fin_data['y']=y\n"
     ]
    }
   ],
   "source": [
    "fin_data = Molecular[list(final_score['features'][:20].values)]\n",
    "fin_data['y']=y"
   ]
  },
  {
   "cell_type": "code",
   "execution_count": 37,
   "id": "190241e9",
   "metadata": {},
   "outputs": [],
   "source": [
    "fin_data.to_excel('C:/Users/TANGLINGHUI331/Desktop/筛选后49个特征数据.xlsx')"
   ]
  },
  {
   "cell_type": "code",
   "execution_count": 1,
   "id": "01ae0312",
   "metadata": {},
   "outputs": [
    {
     "ename": "NameError",
     "evalue": "name 'plt' is not defined",
     "output_type": "error",
     "traceback": [
      "\u001b[1;31m---------------------------------------------------------------------------\u001b[0m",
      "\u001b[1;31mNameError\u001b[0m                                 Traceback (most recent call last)",
      "\u001b[1;32m<ipython-input-1-a171ce29fc92>\u001b[0m in \u001b[0;36m<module>\u001b[1;34m\u001b[0m\n\u001b[1;32m----> 1\u001b[1;33m \u001b[0mplt\u001b[0m\u001b[1;33m.\u001b[0m\u001b[0mrcParams\u001b[0m\u001b[1;33m[\u001b[0m\u001b[1;34m'font.sans-serif'\u001b[0m\u001b[1;33m]\u001b[0m \u001b[1;33m=\u001b[0m \u001b[1;33m[\u001b[0m\u001b[1;34m'SimHei'\u001b[0m\u001b[1;33m]\u001b[0m \u001b[1;31m# 指定默认字体\u001b[0m\u001b[1;33m\u001b[0m\u001b[1;33m\u001b[0m\u001b[0m\n\u001b[0m\u001b[0;32m      2\u001b[0m \u001b[0mplt\u001b[0m\u001b[1;33m.\u001b[0m\u001b[0mrcParams\u001b[0m\u001b[1;33m[\u001b[0m\u001b[1;34m'axes.unicode_minus'\u001b[0m\u001b[1;33m]\u001b[0m \u001b[1;33m=\u001b[0m \u001b[1;32mFalse\u001b[0m \u001b[1;31m# 解决保存图像是负号'-'显示为方块的问题\u001b[0m\u001b[1;33m\u001b[0m\u001b[1;33m\u001b[0m\u001b[0m\n\u001b[0;32m      3\u001b[0m \u001b[0mplt\u001b[0m\u001b[1;33m.\u001b[0m\u001b[0mfigure\u001b[0m\u001b[1;33m(\u001b[0m\u001b[0mfigsize\u001b[0m\u001b[1;33m=\u001b[0m\u001b[1;33m(\u001b[0m\u001b[1;36m10\u001b[0m\u001b[1;33m,\u001b[0m\u001b[1;36m8\u001b[0m\u001b[1;33m)\u001b[0m\u001b[1;33m)\u001b[0m\u001b[1;33m\u001b[0m\u001b[1;33m\u001b[0m\u001b[0m\n\u001b[0;32m      4\u001b[0m \u001b[0msns\u001b[0m\u001b[1;33m.\u001b[0m\u001b[0mheatmap\u001b[0m\u001b[1;33m(\u001b[0m\u001b[0mfin_data\u001b[0m\u001b[1;33m.\u001b[0m\u001b[0mcorr\u001b[0m\u001b[1;33m(\u001b[0m\u001b[0mmethod\u001b[0m\u001b[1;33m=\u001b[0m\u001b[1;34m'pearson'\u001b[0m\u001b[1;33m)\u001b[0m\u001b[1;33m,\u001b[0m\u001b[0mcmap\u001b[0m\u001b[1;33m=\u001b[0m\u001b[1;34m'Blues'\u001b[0m\u001b[1;33m)\u001b[0m\u001b[1;33m\u001b[0m\u001b[1;33m\u001b[0m\u001b[0m\n\u001b[0;32m      5\u001b[0m \u001b[0mplt\u001b[0m\u001b[1;33m.\u001b[0m\u001b[0mshow\u001b[0m\u001b[1;33m(\u001b[0m\u001b[1;33m)\u001b[0m\u001b[1;33m\u001b[0m\u001b[1;33m\u001b[0m\u001b[0m\n",
      "\u001b[1;31mNameError\u001b[0m: name 'plt' is not defined"
     ]
    }
   ],
   "source": [
    "plt.rcParams['font.sans-serif'] = ['SimHei'] # 指定默认字体  \n",
    "plt.rcParams['axes.unicode_minus'] = False # 解决保存图像是负号'-'显示为方块的问题 \n",
    "plt.figure(figsize=(10,8))\n",
    "sns.heatmap(fin_data.corr(method='pearson'),cmap='Blues')\n",
    "plt.show()"
   ]
  },
  {
   "cell_type": "code",
   "execution_count": null,
   "id": "c234345b",
   "metadata": {},
   "outputs": [],
   "source": []
  }
 ],
 "metadata": {
  "kernelspec": {
   "display_name": "Python 3",
   "language": "python",
   "name": "python3"
  },
  "language_info": {
   "codemirror_mode": {
    "name": "ipython",
    "version": 3
   },
   "file_extension": ".py",
   "mimetype": "text/x-python",
   "name": "python",
   "nbconvert_exporter": "python",
   "pygments_lexer": "ipython3",
   "version": "3.8.8"
  }
 },
 "nbformat": 4,
 "nbformat_minor": 5
}
